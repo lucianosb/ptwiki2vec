{
 "cells": [
  {
   "cell_type": "markdown",
   "metadata": {},
   "source": [
    "# Demonstrando o Uso do Modelo"
   ]
  },
  {
   "cell_type": "code",
   "execution_count": 1,
   "metadata": {
    "collapsed": false
   },
   "outputs": [],
   "source": [
    "from gensim.corpora.wikicorpus import WikiCorpus\n",
    "from gensim.models.doc2vec import Doc2Vec, TaggedDocument\n",
    "from gensim.utils import simple_preprocess\n",
    "from pprint import pprint\n",
    "import multiprocessing"
   ]
  },
  {
   "cell_type": "markdown",
   "metadata": {},
   "source": [
    "Primeiro carregamos o modelo treinado e definimos algumas frases"
   ]
  },
  {
   "cell_type": "code",
   "execution_count": 2,
   "metadata": {
    "collapsed": true
   },
   "outputs": [],
   "source": [
    "model = Doc2Vec.load('../model/Doc2Vec(dbow+w,d200,n5,w8,mc2,s0.001,t8)')"
   ]
  },
  {
   "cell_type": "code",
   "execution_count": 3,
   "metadata": {
    "collapsed": true
   },
   "outputs": [],
   "source": [
    "docs = [\n",
    "    \"Acrescenta dispositivos ao Código de Processo Penal para determinar a especificação de gênero no inquérito policial, processo penal e estatísticas correspondentes e dá outras providências.\",\n",
    "    \"Dá nova redação ao § 1º do art. 7º da Lei nº 8.666, de 21 de junho de 1993, para estabelecer a obrigatoriedade do sistema de modelagem da informação da construção, identificado pela sigla inglesa BIM - Building Information Model, na confecção de projetos executivos de obras e serviços de engenharia contratados pelos órgãos e entidades da administração pública, e dá outras providências.\",\n",
    "    \"Determina a inclusão de quadras poliesportivas nos projetos de construção de novos estabelecimentos públicos de ensino fundamental e de ensino médio.\",\n",
    "    \"Torna obrigatória a presença de profissional da área de Fonoaudiologia em todas escolas públicas e privadas de ensino fundamental.\"\n",
    "]"
   ]
  },
  {
   "cell_type": "markdown",
   "metadata": {},
   "source": [
    "No resultado abaixo devemos esperar que:\n",
    "\n",
    "- a primeira frase está distante\n",
    "- a segunda frase está muito próxima\n",
    "- a terceira frase está próxima\n",
    "- a quarta frase está muito distante\n",
    "\n",
    "Isso porque elas tratam, pela minha interpretação, respectivamente de: Processo Penal; Contratação de Projetos de Engenharia; Construção de Quadras em Escolas; e Fonoaudiologia nas Escolas."
   ]
  },
  {
   "cell_type": "code",
   "execution_count": 4,
   "metadata": {
    "collapsed": false
   },
   "outputs": [
    {
     "name": "stdout",
     "output_type": "stream",
     "text": [
      "Doc2Vec(dbow+w,d200,n5,w8,mc2,s0.001,t8)\n",
      "-0.06117547686036443\n",
      "Doc2Vec(dbow+w,d200,n5,w8,mc2,s0.001,t8)\n",
      "-0.010969762869635845\n",
      "Doc2Vec(dbow+w,d200,n5,w8,mc2,s0.001,t8)\n",
      "0.06586819624443717\n",
      "Doc2Vec(dbow+w,d200,n5,w8,mc2,s0.001,t8)\n",
      "-0.1250135915294394\n"
     ]
    }
   ],
   "source": [
    "for doc in docs:\n",
    "    print(str(model))\n",
    "    sims = model.docvecs.similarity_unseen_docs(model, doc, 'Engenharia',\n",
    "                                                alpha=0.1, min_alpha=0.0001,\n",
    "                                                steps=5)\n",
    "    pprint(sims)"
   ]
  },
  {
   "cell_type": "markdown",
   "metadata": {},
   "source": [
    "Observamos que:\n",
    "\n",
    "- A segunda frase está bem próxima como previsto;\n",
    "- A quarta frase está com distancia negativa como previsto\n",
    "- a terceira frase está com distância positiva, porém não tão perto como previsto\n",
    "- a primeira frase está com distância similar a primeira, o que pode ser interpretado como falso positivo.\n",
    "\n",
    "Vamos calcular então a acurácia do modelo, considerando 1 para resultado correto e 0 para incorreto"
   ]
  },
  {
   "cell_type": "code",
   "execution_count": 5,
   "metadata": {
    "collapsed": true
   },
   "outputs": [],
   "source": [
    "from sklearn.metrics import f1_score"
   ]
  },
  {
   "cell_type": "code",
   "execution_count": 6,
   "metadata": {
    "collapsed": false
   },
   "outputs": [
    {
     "data": {
      "text/plain": [
       "0.75"
      ]
     },
     "execution_count": 6,
     "metadata": {},
     "output_type": "execute_result"
    }
   ],
   "source": [
    "y_true = [0,1,1,0]\n",
    "y_pred = [1,1,1,0]\n",
    "\n",
    "f1_score(y_true, y_pred, average='micro')"
   ]
  },
  {
   "cell_type": "markdown",
   "metadata": {},
   "source": [
    "Este resultado foi calculado com base em\n",
    "\n",
    "https://pt.wikipedia.org/wiki/Precisão_e_revocação "
   ]
  },
  {
   "cell_type": "markdown",
   "metadata": {},
   "source": [
    "A função **most_similar** retorna uma lista de artigos similares ao artigo informado no parâmetro positive"
   ]
  },
  {
   "cell_type": "code",
   "execution_count": 7,
   "metadata": {
    "collapsed": false
   },
   "outputs": [
    {
     "name": "stdout",
     "output_type": "stream",
     "text": [
      "Doc2Vec(dbow+w,d200,n5,w8,mc2,s0.001,t8)\n",
      "[('Quociente de inteligência', 0.702828586101532),\n",
      " ('Pensamento divergente', 0.6468408107757568),\n",
      " ('Teoria g', 0.6415136456489563),\n",
      " ('Matrizes Progressivas de Raven', 0.6334096789360046),\n",
      " ('Competência (psicologia)', 0.6279304027557373),\n",
      " ('Autismo altamente-funcional', 0.6241010427474976),\n",
      " ('Lógica e racionalidade', 0.6216001510620117),\n",
      " ('Modelo científico', 0.616083025932312),\n",
      " ('Psicologia comportamental', 0.6154487133026123),\n",
      " ('Inteligência emocional', 0.6144423484802246)]\n"
     ]
    }
   ],
   "source": [
    "print(str(model))\n",
    "pprint(model.docvecs.most_similar(positive=[\"Inteligência\"], topn=10))"
   ]
  },
  {
   "cell_type": "markdown",
   "metadata": {},
   "source": [
    "É possível fazer operações com os vetores de palavras treinados nos modelos e assim calcular uma analogia. No exemplo abaixo temos:\n",
    "\n",
    "> rei - homem + mulher = rainha"
   ]
  },
  {
   "cell_type": "code",
   "execution_count": 8,
   "metadata": {
    "collapsed": false,
    "scrolled": true
   },
   "outputs": [
    {
     "name": "stdout",
     "output_type": "stream",
     "text": [
      "Doc2Vec(dbow+w,d200,n5,w8,mc2,s0.001,t8)\n"
     ]
    },
    {
     "name": "stderr",
     "output_type": "stream",
     "text": [
      "/usr/local/lib/python3.5/dist-packages/ipykernel/__main__.py:2: DeprecationWarning: Call to deprecated `__getitem__` (Method will be removed in 4.0.0, use self.wv.__getitem__() instead).\n",
      "  from ipykernel import kernelapp as app\n",
      "/usr/local/lib/python3.5/dist-packages/ipykernel/__main__.py:3: DeprecationWarning: Call to deprecated `most_similar` (Method will be removed in 4.0.0, use self.wv.most_similar() instead).\n",
      "  app.launch_new_instance()\n"
     ]
    },
    {
     "name": "stdout",
     "output_type": "stream",
     "text": [
      "[('rainha', 0.7577492594718933),\n",
      " ('consorte', 0.6718885898590088),\n",
      " ('filha', 0.6586146354675293),\n",
      " ('esposa', 0.6581082344055176),\n",
      " ('princesa', 0.6393976211547852),\n",
      " ('herdeira', 0.6299619674682617),\n",
      " ('sujarinee', 0.6268012523651123),\n",
      " ('somanat', 0.6259405016899109),\n",
      " ('mahendradatta', 0.6246206760406494),\n",
      " ('jonsdotter', 0.6238503456115723)]\n"
     ]
    }
   ],
   "source": [
    "print(str(model))\n",
    "vec = [model[\"rei\"] - model[\"homem\"] + model[\"mulher\"]]\n",
    "pprint([m for m in model.most_similar(vec, topn=11) if m[0] != \"rei\"])"
   ]
  },
  {
   "cell_type": "markdown",
   "metadata": {},
   "source": [
    "Eis outro exemplo, usando palavras para o cálculo de analogia e em seguida usando os vetores dos artigos:"
   ]
  },
  {
   "cell_type": "code",
   "execution_count": 10,
   "metadata": {
    "collapsed": false
   },
   "outputs": [
    {
     "name": "stdout",
     "output_type": "stream",
     "text": [
      "Doc2Vec(dbow+w,d200,n5,w8,mc2,s0.001,t8)\n",
      "[('sony', 0.8137068748474121),\n",
      " ('playstation', 0.7307587265968323),\n",
      " ('gamecube', 0.6744678616523743),\n",
      " ('wii', 0.6617552042007446),\n",
      " ('replublic', 0.6347378492355347),\n",
      " ('nintendo', 0.6324748992919922),\n",
      " ('antigrav', 0.6239467859268188),\n",
      " ('epic', 0.6141138672828674),\n",
      " ('winkysoft', 0.6139131784439087),\n",
      " ('indieszero', 0.6108818054199219)]\n"
     ]
    },
    {
     "name": "stderr",
     "output_type": "stream",
     "text": [
      "/usr/local/lib/python3.5/dist-packages/ipykernel/__main__.py:2: DeprecationWarning: Call to deprecated `__getitem__` (Method will be removed in 4.0.0, use self.wv.__getitem__() instead).\n",
      "  from ipykernel import kernelapp as app\n",
      "/usr/local/lib/python3.5/dist-packages/ipykernel/__main__.py:3: DeprecationWarning: Call to deprecated `most_similar` (Method will be removed in 4.0.0, use self.wv.most_similar() instead).\n",
      "  app.launch_new_instance()\n"
     ]
    }
   ],
   "source": [
    "print(str(model))\n",
    "vec = [model[\"xbox\"] - model[\"microsoft\"] + model[\"sony\"]]\n",
    "pprint([m for m in model.most_similar(vec, topn=11) if m[0] != \"xbox\"])"
   ]
  },
  {
   "cell_type": "code",
   "execution_count": 11,
   "metadata": {
    "collapsed": false
   },
   "outputs": [
    {
     "name": "stdout",
     "output_type": "stream",
     "text": [
      "Doc2Vec(dbow+w,d200,n5,w8,mc2,s0.001,t8)\n",
      "[('Sony', 0.726809024810791),\n",
      " ('Spectravideo SVI-838', 0.5651353001594543),\n",
      " ('PSX', 0.5608147382736206),\n",
      " ('Acessórios para PlayStation 3', 0.5441511869430542),\n",
      " ('Moto G4', 0.5418250560760498),\n",
      " ('Consoles de videogame de oitava geração', 0.5379625558853149),\n",
      " ('Disco óptico', 0.5374898910522461),\n",
      " ('Colour Genie', 0.5367162823677063),\n",
      " ('PlayStation Portable', 0.5325834155082703),\n",
      " ('Itautec I-7000', 0.532156229019165)]\n"
     ]
    }
   ],
   "source": [
    "print(str(model))\n",
    "vec = [model.docvecs[\"Xbox\"] - model.docvecs[\"Microsoft\"] + model.docvecs[\"Sony\"]]\n",
    "pprint([m for m in model.docvecs.most_similar(vec, topn=11) if m[0] != \"Xbox\"])"
   ]
  },
  {
   "cell_type": "code",
   "execution_count": 12,
   "metadata": {
    "collapsed": false,
    "scrolled": true
   },
   "outputs": [
    {
     "name": "stdout",
     "output_type": "stream",
     "text": [
      "Doc2Vec(dbow+w,d200,n5,w8,mc2,s0.001,t8)\n",
      "[('Nintendo', 0.7459478378295898),\n",
      " ('Consoles de videogame de oitava geração', 0.6578929424285889),\n",
      " ('Super Nintendo Entertainment System', 0.6534451842308044),\n",
      " ('Controle do GameCube', 0.6331572532653809),\n",
      " ('Wii U', 0.6293379068374634),\n",
      " ('Wii', 0.6288516521453857),\n",
      " ('Nintendo 3DS XL', 0.6240283250808716),\n",
      " ('Nintendo Switch', 0.6239873170852661),\n",
      " ('Game Boy Advance', 0.6214669942855835),\n",
      " ('Nintendo GameCube', 0.6196582317352295)]\n"
     ]
    }
   ],
   "source": [
    "print(str(model))\n",
    "vec = [model.docvecs[\"Xbox\"] - model.docvecs[\"Microsoft\"] + model.docvecs[\"Nintendo\"]]\n",
    "pprint([m for m in model.docvecs.most_similar(vec, topn=11) if m[0] != \"Xbox\"])"
   ]
  },
  {
   "cell_type": "markdown",
   "metadata": {},
   "source": [
    "Podemos calcular a similaridade entre os vetores dos documentos e um artigo específico da Wikipedia qualquer. Quanto maior, o resultado, maior a similaridade."
   ]
  },
  {
   "cell_type": "code",
   "execution_count": 13,
   "metadata": {
    "collapsed": false
   },
   "outputs": [
    {
     "name": "stdout",
     "output_type": "stream",
     "text": [
      "Doc2Vec(dbow+w,d200,n5,w8,mc2,s0.001,t8)\n",
      "-0.04531780138289209\n",
      "Doc2Vec(dbow+w,d200,n5,w8,mc2,s0.001,t8)\n",
      "0.05330065415289484\n",
      "Doc2Vec(dbow+w,d200,n5,w8,mc2,s0.001,t8)\n",
      "0.07625238059580261\n",
      "Doc2Vec(dbow+w,d200,n5,w8,mc2,s0.001,t8)\n",
      "-0.19200435490881385\n"
     ]
    }
   ],
   "source": [
    "for doc in docs:\n",
    "    print(str(model))\n",
    "    sims = model.docvecs.similarity_unseen_docs(model, doc, 'Fonoaudiologia',\n",
    "                                                alpha=0.1, min_alpha=0.0001,\n",
    "                                                steps=5)\n",
    "    pprint(sims)"
   ]
  },
  {
   "cell_type": "code",
   "execution_count": 15,
   "metadata": {
    "collapsed": false
   },
   "outputs": [
    {
     "name": "stdout",
     "output_type": "stream",
     "text": [
      "Doc2Vec(dbow+w,d200,n5,w8,mc2,s0.001,t8)\n",
      "-0.05768097779545102\n",
      "Doc2Vec(dbow+w,d200,n5,w8,mc2,s0.001,t8)\n",
      "0.05595415864148422\n",
      "Doc2Vec(dbow+w,d200,n5,w8,mc2,s0.001,t8)\n",
      "-0.011922696188172904\n",
      "Doc2Vec(dbow+w,d200,n5,w8,mc2,s0.001,t8)\n",
      "0.09334278036371157\n"
     ]
    }
   ],
   "source": [
    "for doc in docs:\n",
    "    print(str(model))\n",
    "    sims = model.docvecs.similarity_unseen_docs(model, doc, 'Educação',\n",
    "                                                alpha=0.1, min_alpha=0.0001,\n",
    "                                                steps=5)\n",
    "    pprint(sims)"
   ]
  },
  {
   "cell_type": "markdown",
   "metadata": {},
   "source": [
    "## Calculando a similaridade em massa\n",
    "\n",
    "Usaremos o pandas para manipulação básica do nosso CSV e depois vamos calcular a similaridade de cada item com o artigo desejado."
   ]
  },
  {
   "cell_type": "code",
   "execution_count": 17,
   "metadata": {
    "collapsed": true
   },
   "outputs": [],
   "source": [
    "import pandas as pd"
   ]
  },
  {
   "cell_type": "code",
   "execution_count": 18,
   "metadata": {
    "collapsed": false
   },
   "outputs": [
    {
     "name": "stderr",
     "output_type": "stream",
     "text": [
      "/usr/local/lib/python3.5/dist-packages/IPython/core/interactiveshell.py:2717: DtypeWarning: Columns (19) have mixed types. Specify dtype option on import or set low_memory=False.\n",
      "  interactivity=interactivity, compiler=compiler, result=result)\n"
     ]
    }
   ],
   "source": [
    "leis = pd.read_csv('../data/chamber_of_deputies_propositions.csv')"
   ]
  },
  {
   "cell_type": "markdown",
   "metadata": {},
   "source": [
    "É preciso eliminar os campos nulos..."
   ]
  },
  {
   "cell_type": "code",
   "execution_count": 19,
   "metadata": {
    "collapsed": true
   },
   "outputs": [],
   "source": [
    "resumos = leis.summary.dropna(axis=0,how='all').tolist()"
   ]
  },
  {
   "cell_type": "code",
   "execution_count": 21,
   "metadata": {
    "collapsed": false
   },
   "outputs": [
    {
     "name": "stdout",
     "output_type": "stream",
     "text": [
      "CPU times: user 14.1 s, sys: 0 ns, total: 14.1 s\n",
      "Wall time: 14.1 s\n"
     ]
    }
   ],
   "source": [
    "%%time\n",
    "similaridade_engenharia= []\n",
    "for resumo in resumos:\n",
    "    sims = model.docvecs.similarity_unseen_docs(model, resumo, 'Engenharia',\n",
    "                                                alpha=0.1, min_alpha=0.0001,\n",
    "                                                steps=5)\n",
    "    similaridade_engenharia.append([resumo, sims])"
   ]
  },
  {
   "cell_type": "markdown",
   "metadata": {},
   "source": [
    "O resultado virá em forma de um array de arrays com a frase de input e o resultado de similaridade."
   ]
  },
  {
   "cell_type": "code",
   "execution_count": 22,
   "metadata": {
    "collapsed": false
   },
   "outputs": [
    {
     "data": {
      "text/plain": [
       "['TRANSFERE PARA O TESOURO NACIONAL PARTE DAS EMISSÕES FEITAS PARA ATENDER ÀS OPERAÇÕES DA CARTEIRA DE REDESCONTO DO BANCO DO BRASIL, MEDIANTE RESGATE DE DÉBITOS DO TESOURO NACIONAL AO BANCO DO BRASIL.',\n",
       " 0.05248803924017777]"
      ]
     },
     "execution_count": 22,
     "metadata": {},
     "output_type": "execute_result"
    }
   ],
   "source": [
    "similaridade_engenharia[0]"
   ]
  },
  {
   "cell_type": "code",
   "execution_count": 40,
   "metadata": {
    "collapsed": false
   },
   "outputs": [],
   "source": [
    "similares_engenharia = pd.DataFrame(data=similaridade_engenharia, \n",
    "                                    columns=['resumo','similaridade'])"
   ]
  },
  {
   "cell_type": "code",
   "execution_count": 41,
   "metadata": {
    "collapsed": false
   },
   "outputs": [],
   "source": [
    "similares_engenharia = similares_engenharia.sort_values(by='similaridade', \n",
    "                                 ascending=False)"
   ]
  },
  {
   "cell_type": "markdown",
   "metadata": {},
   "source": [
    "Podemos agora salvar os resultados em um arquivo CSV para analisar com mais detalhes"
   ]
  },
  {
   "cell_type": "code",
   "execution_count": 42,
   "metadata": {
    "collapsed": true
   },
   "outputs": [],
   "source": [
    "similares_engenharia.to_csv('similares_engenharia.csv', index=False)"
   ]
  },
  {
   "cell_type": "code",
   "execution_count": 44,
   "metadata": {
    "collapsed": false
   },
   "outputs": [
    {
     "data": {
      "text/html": [
       "<div>\n",
       "<table border=\"1\" class=\"dataframe\">\n",
       "  <thead>\n",
       "    <tr style=\"text-align: right;\">\n",
       "      <th></th>\n",
       "      <th>resumo</th>\n",
       "      <th>similaridade</th>\n",
       "    </tr>\n",
       "  </thead>\n",
       "  <tbody>\n",
       "    <tr>\n",
       "      <th>64989</th>\n",
       "      <td>Institui normas gerais sobre licitações e cont...</td>\n",
       "      <td>0.095111</td>\n",
       "    </tr>\n",
       "    <tr>\n",
       "      <th>67796</th>\n",
       "      <td>Institui normas gerais sobre licitações e cont...</td>\n",
       "      <td>0.095111</td>\n",
       "    </tr>\n",
       "    <tr>\n",
       "      <th>76356</th>\n",
       "      <td>Dispõe sobre o acesso à informação de valor di...</td>\n",
       "      <td>0.094677</td>\n",
       "    </tr>\n",
       "    <tr>\n",
       "      <th>106973</th>\n",
       "      <td>Altera a Lei nº 8.666, de 21 de junho de 1993,...</td>\n",
       "      <td>0.090872</td>\n",
       "    </tr>\n",
       "    <tr>\n",
       "      <th>105413</th>\n",
       "      <td>Altera a Lei Complementar Nº 97, de 9 de junho...</td>\n",
       "      <td>0.072909</td>\n",
       "    </tr>\n",
       "    <tr>\n",
       "      <th>75323</th>\n",
       "      <td>Dispõe sobre a obrigatoriedade da realização d...</td>\n",
       "      <td>0.066743</td>\n",
       "    </tr>\n",
       "    <tr>\n",
       "      <th>95107</th>\n",
       "      <td>Estabelece regras e critérios para elaboração ...</td>\n",
       "      <td>0.052782</td>\n",
       "    </tr>\n",
       "    <tr>\n",
       "      <th>99275</th>\n",
       "      <td>Autoriza a aplicação do Regime Diferenciado de...</td>\n",
       "      <td>0.031135</td>\n",
       "    </tr>\n",
       "    <tr>\n",
       "      <th>80700</th>\n",
       "      <td>Regulamenta o uso de produtos e sub-produtos d...</td>\n",
       "      <td>0.028844</td>\n",
       "    </tr>\n",
       "    <tr>\n",
       "      <th>65646</th>\n",
       "      <td>Dispõe sobre pesquisas envolvendo seres humano...</td>\n",
       "      <td>0.022535</td>\n",
       "    </tr>\n",
       "    <tr>\n",
       "      <th>59538</th>\n",
       "      <td>Elimina a cobrança da taxa incidente sobre a A...</td>\n",
       "      <td>0.018464</td>\n",
       "    </tr>\n",
       "    <tr>\n",
       "      <th>60087</th>\n",
       "      <td>Introduz alterações na Lei nº 6.496, de 7 de d...</td>\n",
       "      <td>0.017190</td>\n",
       "    </tr>\n",
       "    <tr>\n",
       "      <th>65676</th>\n",
       "      <td>Altera a Lei nº 8.974, de 05 de janeiro de 199...</td>\n",
       "      <td>0.000365</td>\n",
       "    </tr>\n",
       "    <tr>\n",
       "      <th>102782</th>\n",
       "      <td>Dá nova redação ao § 1º do art. 7º da Lei nº 8...</td>\n",
       "      <td>-0.010970</td>\n",
       "    </tr>\n",
       "    <tr>\n",
       "      <th>70934</th>\n",
       "      <td>Dispõe sobre o acesso à informação de valor di...</td>\n",
       "      <td>-0.027453</td>\n",
       "    </tr>\n",
       "    <tr>\n",
       "      <th>71007</th>\n",
       "      <td>Acrescenta inciso ao art. 13, da Lei nº 8.974,...</td>\n",
       "      <td>-0.027860</td>\n",
       "    </tr>\n",
       "    <tr>\n",
       "      <th>77303</th>\n",
       "      <td>Dispõe sobre a responsabilidade civil das empr...</td>\n",
       "      <td>-0.048195</td>\n",
       "    </tr>\n",
       "    <tr>\n",
       "      <th>67797</th>\n",
       "      <td>Institui normas gerais para licitações e contr...</td>\n",
       "      <td>-0.092125</td>\n",
       "    </tr>\n",
       "    <tr>\n",
       "      <th>64775</th>\n",
       "      <td>Institui normas gerais para licitações e contr...</td>\n",
       "      <td>-0.092125</td>\n",
       "    </tr>\n",
       "    <tr>\n",
       "      <th>60117</th>\n",
       "      <td>Estabelece normas para o uso das técnicas de e...</td>\n",
       "      <td>-0.111399</td>\n",
       "    </tr>\n",
       "    <tr>\n",
       "      <th>69633</th>\n",
       "      <td>Altera a Lei nº 8.974, de 5 de janeiro de 1995...</td>\n",
       "      <td>-0.128460</td>\n",
       "    </tr>\n",
       "    <tr>\n",
       "      <th>88044</th>\n",
       "      <td>Acrescenta artigo à Lei nº 8.666, de 21 de jun...</td>\n",
       "      <td>-0.144510</td>\n",
       "    </tr>\n",
       "  </tbody>\n",
       "</table>\n",
       "</div>"
      ],
      "text/plain": [
       "                                                   resumo  similaridade\n",
       "64989   Institui normas gerais sobre licitações e cont...      0.095111\n",
       "67796   Institui normas gerais sobre licitações e cont...      0.095111\n",
       "76356   Dispõe sobre o acesso à informação de valor di...      0.094677\n",
       "106973  Altera a Lei nº 8.666, de 21 de junho de 1993,...      0.090872\n",
       "105413  Altera a Lei Complementar Nº 97, de 9 de junho...      0.072909\n",
       "75323   Dispõe sobre a obrigatoriedade da realização d...      0.066743\n",
       "95107   Estabelece regras e critérios para elaboração ...      0.052782\n",
       "99275   Autoriza a aplicação do Regime Diferenciado de...      0.031135\n",
       "80700   Regulamenta o uso de produtos e sub-produtos d...      0.028844\n",
       "65646   Dispõe sobre pesquisas envolvendo seres humano...      0.022535\n",
       "59538   Elimina a cobrança da taxa incidente sobre a A...      0.018464\n",
       "60087   Introduz alterações na Lei nº 6.496, de 7 de d...      0.017190\n",
       "65676   Altera a Lei nº 8.974, de 05 de janeiro de 199...      0.000365\n",
       "102782  Dá nova redação ao § 1º do art. 7º da Lei nº 8...     -0.010970\n",
       "70934   Dispõe sobre o acesso à informação de valor di...     -0.027453\n",
       "71007   Acrescenta inciso ao art. 13, da Lei nº 8.974,...     -0.027860\n",
       "77303   Dispõe sobre a responsabilidade civil das empr...     -0.048195\n",
       "67797   Institui normas gerais para licitações e contr...     -0.092125\n",
       "64775   Institui normas gerais para licitações e contr...     -0.092125\n",
       "60117   Estabelece normas para o uso das técnicas de e...     -0.111399\n",
       "69633   Altera a Lei nº 8.974, de 5 de janeiro de 1995...     -0.128460\n",
       "88044   Acrescenta artigo à Lei nº 8.666, de 21 de jun...     -0.144510"
      ]
     },
     "execution_count": 44,
     "metadata": {},
     "output_type": "execute_result"
    }
   ],
   "source": [
    "similares_engenharia[similares_engenharia['resumo'].str.contains('engenharia')]"
   ]
  },
  {
   "cell_type": "code",
   "execution_count": 45,
   "metadata": {
    "collapsed": false
   },
   "outputs": [
    {
     "data": {
      "text/html": [
       "<div>\n",
       "<table border=\"1\" class=\"dataframe\">\n",
       "  <thead>\n",
       "    <tr style=\"text-align: right;\">\n",
       "      <th></th>\n",
       "      <th>resumo</th>\n",
       "      <th>similaridade</th>\n",
       "    </tr>\n",
       "  </thead>\n",
       "  <tbody>\n",
       "    <tr>\n",
       "      <th>101417</th>\n",
       "      <td>Estabelece diretrizes, critérios e procediment...</td>\n",
       "      <td>0.182045</td>\n",
       "    </tr>\n",
       "    <tr>\n",
       "      <th>66874</th>\n",
       "      <td>Dispõe sobre o contrato especial de trabalho n...</td>\n",
       "      <td>0.180283</td>\n",
       "    </tr>\n",
       "    <tr>\n",
       "      <th>92064</th>\n",
       "      <td>Altera a Lei nº 6.189, de 16 de dezembro de 19...</td>\n",
       "      <td>0.160372</td>\n",
       "    </tr>\n",
       "    <tr>\n",
       "      <th>97334</th>\n",
       "      <td>Dispõe sobre projeto e construção de área de a...</td>\n",
       "      <td>0.124524</td>\n",
       "    </tr>\n",
       "    <tr>\n",
       "      <th>73726</th>\n",
       "      <td>Altera a Lei nº 6.001, de 19 de dezembro de 19...</td>\n",
       "      <td>0.124076</td>\n",
       "    </tr>\n",
       "    <tr>\n",
       "      <th>78348</th>\n",
       "      <td>Dispõe sobre a construção obrigatória de faixa...</td>\n",
       "      <td>0.112454</td>\n",
       "    </tr>\n",
       "    <tr>\n",
       "      <th>78934</th>\n",
       "      <td>Altera o art. 60 da Lei nº 9.605, de 1998, dis...</td>\n",
       "      <td>0.103725</td>\n",
       "    </tr>\n",
       "    <tr>\n",
       "      <th>68321</th>\n",
       "      <td>Autoriza a movimentação das contas do Fundo de...</td>\n",
       "      <td>0.102296</td>\n",
       "    </tr>\n",
       "    <tr>\n",
       "      <th>63585</th>\n",
       "      <td>Autoriza a utilização de recursos das contas n...</td>\n",
       "      <td>0.102125</td>\n",
       "    </tr>\n",
       "    <tr>\n",
       "      <th>64740</th>\n",
       "      <td>Faculta às empresas de construção civil a opçã...</td>\n",
       "      <td>0.097451</td>\n",
       "    </tr>\n",
       "    <tr>\n",
       "      <th>93210</th>\n",
       "      <td>Dispõe sobre a obrigatoriedade da participação...</td>\n",
       "      <td>0.096831</td>\n",
       "    </tr>\n",
       "    <tr>\n",
       "      <th>92154</th>\n",
       "      <td>Altera a Lei nº 11.438, de 29 de dezembro de 2...</td>\n",
       "      <td>0.093841</td>\n",
       "    </tr>\n",
       "    <tr>\n",
       "      <th>77094</th>\n",
       "      <td>Concede isenção da contribuição de seguridade ...</td>\n",
       "      <td>0.092422</td>\n",
       "    </tr>\n",
       "    <tr>\n",
       "      <th>102806</th>\n",
       "      <td>Denomina \"Aeroporto Glauber Rocha\" o novo aero...</td>\n",
       "      <td>0.092219</td>\n",
       "    </tr>\n",
       "    <tr>\n",
       "      <th>51201</th>\n",
       "      <td>Disciplina a adaptação de logradouros e edifíc...</td>\n",
       "      <td>0.091356</td>\n",
       "    </tr>\n",
       "    <tr>\n",
       "      <th>79355</th>\n",
       "      <td>Dispõe sobre incentivos para construção da cas...</td>\n",
       "      <td>0.090957</td>\n",
       "    </tr>\n",
       "    <tr>\n",
       "      <th>96370</th>\n",
       "      <td>Institui parcelamento de dívidas com a Fazenda...</td>\n",
       "      <td>0.090215</td>\n",
       "    </tr>\n",
       "    <tr>\n",
       "      <th>68052</th>\n",
       "      <td>Dispõe sobre a obrigatoriedade da construção d...</td>\n",
       "      <td>0.089067</td>\n",
       "    </tr>\n",
       "    <tr>\n",
       "      <th>102426</th>\n",
       "      <td>Dispõe sobre a isenção do Imposto sobre Produt...</td>\n",
       "      <td>0.088987</td>\n",
       "    </tr>\n",
       "    <tr>\n",
       "      <th>65117</th>\n",
       "      <td>Dispõe sobre a construção de muro de proteção ...</td>\n",
       "      <td>0.084501</td>\n",
       "    </tr>\n",
       "    <tr>\n",
       "      <th>106818</th>\n",
       "      <td>Determina a utilização preferencial de cimentí...</td>\n",
       "      <td>0.079907</td>\n",
       "    </tr>\n",
       "    <tr>\n",
       "      <th>72007</th>\n",
       "      <td>Dispõe sobre a construção de uma ponte rodoviá...</td>\n",
       "      <td>0.076212</td>\n",
       "    </tr>\n",
       "    <tr>\n",
       "      <th>101112</th>\n",
       "      <td>Dispõe sobre a proibição de construção, instal...</td>\n",
       "      <td>0.075735</td>\n",
       "    </tr>\n",
       "    <tr>\n",
       "      <th>70322</th>\n",
       "      <td>Autoriza a República Federativa do Brasil a ex...</td>\n",
       "      <td>0.075286</td>\n",
       "    </tr>\n",
       "    <tr>\n",
       "      <th>82862</th>\n",
       "      <td>Altera a Lei nº 9.472, de 16 de julho de 1997,...</td>\n",
       "      <td>0.074774</td>\n",
       "    </tr>\n",
       "    <tr>\n",
       "      <th>98466</th>\n",
       "      <td>Institui o Fundo Nacional de Apoio à Recuperaç...</td>\n",
       "      <td>0.070671</td>\n",
       "    </tr>\n",
       "    <tr>\n",
       "      <th>107016</th>\n",
       "      <td>Altera a Lei nº 12.651, de 25 de maio de 2012,...</td>\n",
       "      <td>0.070345</td>\n",
       "    </tr>\n",
       "    <tr>\n",
       "      <th>82817</th>\n",
       "      <td>Altera a Lei nº 5.070, de 1966, com a finalida...</td>\n",
       "      <td>0.068361</td>\n",
       "    </tr>\n",
       "    <tr>\n",
       "      <th>89842</th>\n",
       "      <td>Acrescenta o art. 45-A, na Lei nº 8.987, de 03...</td>\n",
       "      <td>0.066173</td>\n",
       "    </tr>\n",
       "    <tr>\n",
       "      <th>102644</th>\n",
       "      <td>Determina a inclusão de quadras poliesportivas...</td>\n",
       "      <td>0.065868</td>\n",
       "    </tr>\n",
       "    <tr>\n",
       "      <th>...</th>\n",
       "      <td>...</td>\n",
       "      <td>...</td>\n",
       "    </tr>\n",
       "    <tr>\n",
       "      <th>72307</th>\n",
       "      <td>Proíbe a utilização na construção civil de tel...</td>\n",
       "      <td>-0.089451</td>\n",
       "    </tr>\n",
       "    <tr>\n",
       "      <th>100405</th>\n",
       "      <td>Estabelece condições para a celebração de conv...</td>\n",
       "      <td>-0.091102</td>\n",
       "    </tr>\n",
       "    <tr>\n",
       "      <th>79521</th>\n",
       "      <td>Torna obrigatória a construção de escolas de e...</td>\n",
       "      <td>-0.093164</td>\n",
       "    </tr>\n",
       "    <tr>\n",
       "      <th>97310</th>\n",
       "      <td>Obriga a inclusão de acostamentos quando do pr...</td>\n",
       "      <td>-0.093456</td>\n",
       "    </tr>\n",
       "    <tr>\n",
       "      <th>62874</th>\n",
       "      <td>Acrescenta e modifica dispositivos do artigo 2...</td>\n",
       "      <td>-0.098435</td>\n",
       "    </tr>\n",
       "    <tr>\n",
       "      <th>107741</th>\n",
       "      <td>Dispõe sobre a reserva de no mínimo 5% (cinco ...</td>\n",
       "      <td>-0.100055</td>\n",
       "    </tr>\n",
       "    <tr>\n",
       "      <th>77191</th>\n",
       "      <td>Altera a redação do art. 120 da Lei nº 9.503, ...</td>\n",
       "      <td>-0.103171</td>\n",
       "    </tr>\n",
       "    <tr>\n",
       "      <th>76163</th>\n",
       "      <td>Assegura às famílias de baixa renda assistênci...</td>\n",
       "      <td>-0.104839</td>\n",
       "    </tr>\n",
       "    <tr>\n",
       "      <th>65034</th>\n",
       "      <td>Dispõe sobre seguro obrigatório de prejuízos f...</td>\n",
       "      <td>-0.104889</td>\n",
       "    </tr>\n",
       "    <tr>\n",
       "      <th>86444</th>\n",
       "      <td>Denomina  \"Usina Hidrelétrica Fernando Fonseca...</td>\n",
       "      <td>-0.106163</td>\n",
       "    </tr>\n",
       "    <tr>\n",
       "      <th>82762</th>\n",
       "      <td>Torna obrigatória construção de área destinada...</td>\n",
       "      <td>-0.110002</td>\n",
       "    </tr>\n",
       "    <tr>\n",
       "      <th>55420</th>\n",
       "      <td>Dispõe sobre a construção de logradouros, de e...</td>\n",
       "      <td>-0.110532</td>\n",
       "    </tr>\n",
       "    <tr>\n",
       "      <th>92606</th>\n",
       "      <td>Estabelece condições para a liberação de recur...</td>\n",
       "      <td>-0.111264</td>\n",
       "    </tr>\n",
       "    <tr>\n",
       "      <th>87978</th>\n",
       "      <td>Estabelece condições para a liberação de recur...</td>\n",
       "      <td>-0.111264</td>\n",
       "    </tr>\n",
       "    <tr>\n",
       "      <th>60117</th>\n",
       "      <td>Estabelece normas para o uso das técnicas de e...</td>\n",
       "      <td>-0.111399</td>\n",
       "    </tr>\n",
       "    <tr>\n",
       "      <th>91828</th>\n",
       "      <td>Altera a Lei nº 12.340, de 1º de dezembro de 2...</td>\n",
       "      <td>-0.112353</td>\n",
       "    </tr>\n",
       "    <tr>\n",
       "      <th>88245</th>\n",
       "      <td>Torna obrigatório a construção de rampas de ac...</td>\n",
       "      <td>-0.121820</td>\n",
       "    </tr>\n",
       "    <tr>\n",
       "      <th>77582</th>\n",
       "      <td>Dispõe sobre a inclusão de quadras poliesporti...</td>\n",
       "      <td>-0.122312</td>\n",
       "    </tr>\n",
       "    <tr>\n",
       "      <th>87301</th>\n",
       "      <td>Altera a Lei nº 11.124, de 16 de junho de 2005...</td>\n",
       "      <td>-0.123462</td>\n",
       "    </tr>\n",
       "    <tr>\n",
       "      <th>89267</th>\n",
       "      <td>Dispõe sobre normas de segurança para a constr...</td>\n",
       "      <td>-0.125467</td>\n",
       "    </tr>\n",
       "    <tr>\n",
       "      <th>73415</th>\n",
       "      <td>Altera a Lei nº 8.036, de 11 de maio de 1990, ...</td>\n",
       "      <td>-0.129003</td>\n",
       "    </tr>\n",
       "    <tr>\n",
       "      <th>100391</th>\n",
       "      <td>Acrescenta o inciso V, no parágrafo único do a...</td>\n",
       "      <td>-0.131671</td>\n",
       "    </tr>\n",
       "    <tr>\n",
       "      <th>102926</th>\n",
       "      <td>\"Altera a Lei nº 11.343, de 23 de agosto de 20...</td>\n",
       "      <td>-0.137443</td>\n",
       "    </tr>\n",
       "    <tr>\n",
       "      <th>91905</th>\n",
       "      <td>Dispõe sobre a oportunidade das empresas proje...</td>\n",
       "      <td>-0.139658</td>\n",
       "    </tr>\n",
       "    <tr>\n",
       "      <th>79867</th>\n",
       "      <td>Estabelece regras gerais para a construção de ...</td>\n",
       "      <td>-0.141415</td>\n",
       "    </tr>\n",
       "    <tr>\n",
       "      <th>76643</th>\n",
       "      <td>Estabelece regras gerais para a construção de ...</td>\n",
       "      <td>-0.141415</td>\n",
       "    </tr>\n",
       "    <tr>\n",
       "      <th>78095</th>\n",
       "      <td>Acrescenta artigo à Lei nº 9.503, de 23 de set...</td>\n",
       "      <td>-0.143872</td>\n",
       "    </tr>\n",
       "    <tr>\n",
       "      <th>88101</th>\n",
       "      <td>Acrescenta artigo à Lei nº 9.503, de 23 de set...</td>\n",
       "      <td>-0.143872</td>\n",
       "    </tr>\n",
       "    <tr>\n",
       "      <th>78291</th>\n",
       "      <td>Dispõe sobre a inclusão de quadras poliesporti...</td>\n",
       "      <td>-0.159223</td>\n",
       "    </tr>\n",
       "    <tr>\n",
       "      <th>80483</th>\n",
       "      <td>\"Dispõe sobre a construção de creches em  conj...</td>\n",
       "      <td>-0.178852</td>\n",
       "    </tr>\n",
       "  </tbody>\n",
       "</table>\n",
       "<p>223 rows × 2 columns</p>\n",
       "</div>"
      ],
      "text/plain": [
       "                                                   resumo  similaridade\n",
       "101417  Estabelece diretrizes, critérios e procediment...      0.182045\n",
       "66874   Dispõe sobre o contrato especial de trabalho n...      0.180283\n",
       "92064   Altera a Lei nº 6.189, de 16 de dezembro de 19...      0.160372\n",
       "97334   Dispõe sobre projeto e construção de área de a...      0.124524\n",
       "73726   Altera a Lei nº 6.001, de 19 de dezembro de 19...      0.124076\n",
       "78348   Dispõe sobre a construção obrigatória de faixa...      0.112454\n",
       "78934   Altera o art. 60 da Lei nº 9.605, de 1998, dis...      0.103725\n",
       "68321   Autoriza a movimentação das contas do Fundo de...      0.102296\n",
       "63585   Autoriza a utilização de recursos das contas n...      0.102125\n",
       "64740   Faculta às empresas de construção civil a opçã...      0.097451\n",
       "93210   Dispõe sobre a obrigatoriedade da participação...      0.096831\n",
       "92154   Altera a Lei nº 11.438, de 29 de dezembro de 2...      0.093841\n",
       "77094   Concede isenção da contribuição de seguridade ...      0.092422\n",
       "102806  Denomina \"Aeroporto Glauber Rocha\" o novo aero...      0.092219\n",
       "51201   Disciplina a adaptação de logradouros e edifíc...      0.091356\n",
       "79355   Dispõe sobre incentivos para construção da cas...      0.090957\n",
       "96370   Institui parcelamento de dívidas com a Fazenda...      0.090215\n",
       "68052   Dispõe sobre a obrigatoriedade da construção d...      0.089067\n",
       "102426  Dispõe sobre a isenção do Imposto sobre Produt...      0.088987\n",
       "65117   Dispõe sobre a construção de muro de proteção ...      0.084501\n",
       "106818  Determina a utilização preferencial de cimentí...      0.079907\n",
       "72007   Dispõe sobre a construção de uma ponte rodoviá...      0.076212\n",
       "101112  Dispõe sobre a proibição de construção, instal...      0.075735\n",
       "70322   Autoriza a República Federativa do Brasil a ex...      0.075286\n",
       "82862   Altera a Lei nº 9.472, de 16 de julho de 1997,...      0.074774\n",
       "98466   Institui o Fundo Nacional de Apoio à Recuperaç...      0.070671\n",
       "107016  Altera a Lei nº 12.651, de 25 de maio de 2012,...      0.070345\n",
       "82817   Altera a Lei nº 5.070, de 1966, com a finalida...      0.068361\n",
       "89842   Acrescenta o art. 45-A, na Lei nº 8.987, de 03...      0.066173\n",
       "102644  Determina a inclusão de quadras poliesportivas...      0.065868\n",
       "...                                                   ...           ...\n",
       "72307   Proíbe a utilização na construção civil de tel...     -0.089451\n",
       "100405  Estabelece condições para a celebração de conv...     -0.091102\n",
       "79521   Torna obrigatória a construção de escolas de e...     -0.093164\n",
       "97310   Obriga a inclusão de acostamentos quando do pr...     -0.093456\n",
       "62874   Acrescenta e modifica dispositivos do artigo 2...     -0.098435\n",
       "107741  Dispõe sobre a reserva de no mínimo 5% (cinco ...     -0.100055\n",
       "77191   Altera a redação do art. 120 da Lei nº 9.503, ...     -0.103171\n",
       "76163   Assegura às famílias de baixa renda assistênci...     -0.104839\n",
       "65034   Dispõe sobre seguro obrigatório de prejuízos f...     -0.104889\n",
       "86444   Denomina  \"Usina Hidrelétrica Fernando Fonseca...     -0.106163\n",
       "82762   Torna obrigatória construção de área destinada...     -0.110002\n",
       "55420   Dispõe sobre a construção de logradouros, de e...     -0.110532\n",
       "92606   Estabelece condições para a liberação de recur...     -0.111264\n",
       "87978   Estabelece condições para a liberação de recur...     -0.111264\n",
       "60117   Estabelece normas para o uso das técnicas de e...     -0.111399\n",
       "91828   Altera a Lei nº 12.340, de 1º de dezembro de 2...     -0.112353\n",
       "88245   Torna obrigatório a construção de rampas de ac...     -0.121820\n",
       "77582   Dispõe sobre a inclusão de quadras poliesporti...     -0.122312\n",
       "87301   Altera a Lei nº 11.124, de 16 de junho de 2005...     -0.123462\n",
       "89267   Dispõe sobre normas de segurança para a constr...     -0.125467\n",
       "73415   Altera a Lei nº 8.036, de 11 de maio de 1990, ...     -0.129003\n",
       "100391  Acrescenta o inciso V, no parágrafo único do a...     -0.131671\n",
       "102926  \"Altera a Lei nº 11.343, de 23 de agosto de 20...     -0.137443\n",
       "91905   Dispõe sobre a oportunidade das empresas proje...     -0.139658\n",
       "79867   Estabelece regras gerais para a construção de ...     -0.141415\n",
       "76643   Estabelece regras gerais para a construção de ...     -0.141415\n",
       "78095   Acrescenta artigo à Lei nº 9.503, de 23 de set...     -0.143872\n",
       "88101   Acrescenta artigo à Lei nº 9.503, de 23 de set...     -0.143872\n",
       "78291   Dispõe sobre a inclusão de quadras poliesporti...     -0.159223\n",
       "80483   \"Dispõe sobre a construção de creches em  conj...     -0.178852\n",
       "\n",
       "[223 rows x 2 columns]"
      ]
     },
     "execution_count": 45,
     "metadata": {},
     "output_type": "execute_result"
    }
   ],
   "source": [
    "similares_engenharia[similares_engenharia['resumo'].str.contains('construção')]"
   ]
  },
  {
   "cell_type": "code",
   "execution_count": 46,
   "metadata": {
    "collapsed": false
   },
   "outputs": [
    {
     "data": {
      "text/html": [
       "<div>\n",
       "<table border=\"1\" class=\"dataframe\">\n",
       "  <thead>\n",
       "    <tr style=\"text-align: right;\">\n",
       "      <th></th>\n",
       "      <th>resumo</th>\n",
       "      <th>similaridade</th>\n",
       "    </tr>\n",
       "  </thead>\n",
       "  <tbody>\n",
       "    <tr>\n",
       "      <th>91846</th>\n",
       "      <td>Dispõe sobre o controle de substâncias química...</td>\n",
       "      <td>0.222266</td>\n",
       "    </tr>\n",
       "    <tr>\n",
       "      <th>72305</th>\n",
       "      <td>Dispõe sobre a autorização e o funcionamento d...</td>\n",
       "      <td>0.122185</td>\n",
       "    </tr>\n",
       "    <tr>\n",
       "      <th>88079</th>\n",
       "      <td>Altera o inciso II do art. 226 do Decreto-Lei ...</td>\n",
       "      <td>0.099126</td>\n",
       "    </tr>\n",
       "    <tr>\n",
       "      <th>73944</th>\n",
       "      <td>Fica o Poder Executivo autorizado a criar o Fu...</td>\n",
       "      <td>0.096430</td>\n",
       "    </tr>\n",
       "    <tr>\n",
       "      <th>97378</th>\n",
       "      <td>Acrescenta dispositivo a Lei nº 6.368, de 21 d...</td>\n",
       "      <td>0.088158</td>\n",
       "    </tr>\n",
       "    <tr>\n",
       "      <th>57638</th>\n",
       "      <td>Institui, em todo o território nacional, a not...</td>\n",
       "      <td>0.084465</td>\n",
       "    </tr>\n",
       "    <tr>\n",
       "      <th>86557</th>\n",
       "      <td>Dispõe sobre a obrigação de o Sistema Único de...</td>\n",
       "      <td>0.083084</td>\n",
       "    </tr>\n",
       "    <tr>\n",
       "      <th>72919</th>\n",
       "      <td>Torna obrigatória a inclusão, no programa de d...</td>\n",
       "      <td>0.074502</td>\n",
       "    </tr>\n",
       "    <tr>\n",
       "      <th>95137</th>\n",
       "      <td>Acrescenta o inciso IV e o § 8º ao art. 28 da ...</td>\n",
       "      <td>0.065059</td>\n",
       "    </tr>\n",
       "    <tr>\n",
       "      <th>106493</th>\n",
       "      <td>Proíbe a castração química de cães.</td>\n",
       "      <td>0.064237</td>\n",
       "    </tr>\n",
       "    <tr>\n",
       "      <th>65462</th>\n",
       "      <td>Dispõe sobre a produção, a utilização e a come...</td>\n",
       "      <td>0.058120</td>\n",
       "    </tr>\n",
       "    <tr>\n",
       "      <th>75120</th>\n",
       "      <td>Estabelece normas para registro de diploma e i...</td>\n",
       "      <td>0.056265</td>\n",
       "    </tr>\n",
       "    <tr>\n",
       "      <th>95613</th>\n",
       "      <td>Altera o Decreto-lei nº 2.848, de 7 de dezembr...</td>\n",
       "      <td>0.053638</td>\n",
       "    </tr>\n",
       "    <tr>\n",
       "      <th>92694</th>\n",
       "      <td>Acrescenta o  art. 216-B  ao Decreto-Lei  nº 2...</td>\n",
       "      <td>0.046723</td>\n",
       "    </tr>\n",
       "    <tr>\n",
       "      <th>104381</th>\n",
       "      <td>Altera a Lei de Diretrizes e Bases da Educação...</td>\n",
       "      <td>0.037830</td>\n",
       "    </tr>\n",
       "    <tr>\n",
       "      <th>104583</th>\n",
       "      <td>Autoriza o uso de fármacos, substâncias químic...</td>\n",
       "      <td>0.034086</td>\n",
       "    </tr>\n",
       "    <tr>\n",
       "      <th>68883</th>\n",
       "      <td>Dispõe sobre o exercício profissional do técni...</td>\n",
       "      <td>0.031590</td>\n",
       "    </tr>\n",
       "    <tr>\n",
       "      <th>76574</th>\n",
       "      <td>Altera a redação do art. 44 da Lei nº 8.213, d...</td>\n",
       "      <td>0.024272</td>\n",
       "    </tr>\n",
       "    <tr>\n",
       "      <th>68719</th>\n",
       "      <td>Projeto de lei que altera as Leis nºs 8212 e 8...</td>\n",
       "      <td>0.018513</td>\n",
       "    </tr>\n",
       "    <tr>\n",
       "      <th>92051</th>\n",
       "      <td>Altera o Código de Trânsito Brasileiro para di...</td>\n",
       "      <td>0.009453</td>\n",
       "    </tr>\n",
       "    <tr>\n",
       "      <th>59002</th>\n",
       "      <td>Dispõe sobre indicação de composição química n...</td>\n",
       "      <td>0.007647</td>\n",
       "    </tr>\n",
       "    <tr>\n",
       "      <th>87503</th>\n",
       "      <td>Proíbe a fabricação, a importação, a comercial...</td>\n",
       "      <td>0.005943</td>\n",
       "    </tr>\n",
       "    <tr>\n",
       "      <th>61736</th>\n",
       "      <td>(ATAS) Dispõe sobre a profissão de Técnico de ...</td>\n",
       "      <td>0.004523</td>\n",
       "    </tr>\n",
       "    <tr>\n",
       "      <th>97580</th>\n",
       "      <td>\"Dispõe sobre a obrigatoriedade de profissiona...</td>\n",
       "      <td>0.004310</td>\n",
       "    </tr>\n",
       "    <tr>\n",
       "      <th>67042</th>\n",
       "      <td>Dispõe sobre advertência nas embalagens de bat...</td>\n",
       "      <td>-0.000299</td>\n",
       "    </tr>\n",
       "    <tr>\n",
       "      <th>73941</th>\n",
       "      <td>Proíbe a utilização de herbicidas para capina ...</td>\n",
       "      <td>-0.008059</td>\n",
       "    </tr>\n",
       "    <tr>\n",
       "      <th>76273</th>\n",
       "      <td>Dispõe sobre a obrigatoriedade da inclusão no ...</td>\n",
       "      <td>-0.029279</td>\n",
       "    </tr>\n",
       "    <tr>\n",
       "      <th>71010</th>\n",
       "      <td>Dispõe sobre a profissão de Técnico de Operaçã...</td>\n",
       "      <td>-0.030859</td>\n",
       "    </tr>\n",
       "    <tr>\n",
       "      <th>92446</th>\n",
       "      <td>Acrescenta o art. 216-B ao Decreto-Lei nº 2.84...</td>\n",
       "      <td>-0.033629</td>\n",
       "    </tr>\n",
       "    <tr>\n",
       "      <th>72779</th>\n",
       "      <td>Estabelece normas para registro de diploma e i...</td>\n",
       "      <td>-0.034209</td>\n",
       "    </tr>\n",
       "    <tr>\n",
       "      <th>87370</th>\n",
       "      <td>Dispõe sobre a proibição da produção, importaç...</td>\n",
       "      <td>-0.050390</td>\n",
       "    </tr>\n",
       "    <tr>\n",
       "      <th>65403</th>\n",
       "      <td>Dispõe sobre o regime de trabalho dos empregad...</td>\n",
       "      <td>-0.056747</td>\n",
       "    </tr>\n",
       "    <tr>\n",
       "      <th>82901</th>\n",
       "      <td>Modifica a Lei n° 11.476, de 2007, estendendo ...</td>\n",
       "      <td>-0.059979</td>\n",
       "    </tr>\n",
       "    <tr>\n",
       "      <th>69097</th>\n",
       "      <td>Prescreve advertência nas embalagens de bateri...</td>\n",
       "      <td>-0.064538</td>\n",
       "    </tr>\n",
       "    <tr>\n",
       "      <th>97365</th>\n",
       "      <td>Acrescenta dispositivo a Lei nº 11.343, de 23 ...</td>\n",
       "      <td>-0.064940</td>\n",
       "    </tr>\n",
       "    <tr>\n",
       "      <th>89648</th>\n",
       "      <td>Acrescenta o art. 11-A na Lei nº 5.811, de 11 ...</td>\n",
       "      <td>-0.067741</td>\n",
       "    </tr>\n",
       "    <tr>\n",
       "      <th>68185</th>\n",
       "      <td>Obriga o produtor, o fabricante e o importador...</td>\n",
       "      <td>-0.095668</td>\n",
       "    </tr>\n",
       "    <tr>\n",
       "      <th>93882</th>\n",
       "      <td>Acrescenta dispositivo ao art. 482 da Consolid...</td>\n",
       "      <td>-0.097275</td>\n",
       "    </tr>\n",
       "    <tr>\n",
       "      <th>59172</th>\n",
       "      <td>Dispõe sobre o controle e comercialização da c...</td>\n",
       "      <td>-0.098253</td>\n",
       "    </tr>\n",
       "    <tr>\n",
       "      <th>84808</th>\n",
       "      <td>Acresce o artigo 223-A ao Decreto-Lei nº 2.848...</td>\n",
       "      <td>-0.140477</td>\n",
       "    </tr>\n",
       "    <tr>\n",
       "      <th>64690</th>\n",
       "      <td>Altera as Leis nº 8.212 e nº 8.213, ambas de 2...</td>\n",
       "      <td>-0.149613</td>\n",
       "    </tr>\n",
       "  </tbody>\n",
       "</table>\n",
       "</div>"
      ],
      "text/plain": [
       "                                                   resumo  similaridade\n",
       "91846   Dispõe sobre o controle de substâncias química...      0.222266\n",
       "72305   Dispõe sobre a autorização e o funcionamento d...      0.122185\n",
       "88079   Altera o inciso II do art. 226 do Decreto-Lei ...      0.099126\n",
       "73944   Fica o Poder Executivo autorizado a criar o Fu...      0.096430\n",
       "97378   Acrescenta dispositivo a Lei nº 6.368, de 21 d...      0.088158\n",
       "57638   Institui, em todo o território nacional, a not...      0.084465\n",
       "86557   Dispõe sobre a obrigação de o Sistema Único de...      0.083084\n",
       "72919   Torna obrigatória a inclusão, no programa de d...      0.074502\n",
       "95137   Acrescenta o inciso IV e o § 8º ao art. 28 da ...      0.065059\n",
       "106493                Proíbe a castração química de cães.      0.064237\n",
       "65462   Dispõe sobre a produção, a utilização e a come...      0.058120\n",
       "75120   Estabelece normas para registro de diploma e i...      0.056265\n",
       "95613   Altera o Decreto-lei nº 2.848, de 7 de dezembr...      0.053638\n",
       "92694   Acrescenta o  art. 216-B  ao Decreto-Lei  nº 2...      0.046723\n",
       "104381  Altera a Lei de Diretrizes e Bases da Educação...      0.037830\n",
       "104583  Autoriza o uso de fármacos, substâncias químic...      0.034086\n",
       "68883   Dispõe sobre o exercício profissional do técni...      0.031590\n",
       "76574   Altera a redação do art. 44 da Lei nº 8.213, d...      0.024272\n",
       "68719   Projeto de lei que altera as Leis nºs 8212 e 8...      0.018513\n",
       "92051   Altera o Código de Trânsito Brasileiro para di...      0.009453\n",
       "59002   Dispõe sobre indicação de composição química n...      0.007647\n",
       "87503   Proíbe a fabricação, a importação, a comercial...      0.005943\n",
       "61736   (ATAS) Dispõe sobre a profissão de Técnico de ...      0.004523\n",
       "97580   \"Dispõe sobre a obrigatoriedade de profissiona...      0.004310\n",
       "67042   Dispõe sobre advertência nas embalagens de bat...     -0.000299\n",
       "73941   Proíbe a utilização de herbicidas para capina ...     -0.008059\n",
       "76273   Dispõe sobre a obrigatoriedade da inclusão no ...     -0.029279\n",
       "71010   Dispõe sobre a profissão de Técnico de Operaçã...     -0.030859\n",
       "92446   Acrescenta o art. 216-B ao Decreto-Lei nº 2.84...     -0.033629\n",
       "72779   Estabelece normas para registro de diploma e i...     -0.034209\n",
       "87370   Dispõe sobre a proibição da produção, importaç...     -0.050390\n",
       "65403   Dispõe sobre o regime de trabalho dos empregad...     -0.056747\n",
       "82901   Modifica a Lei n° 11.476, de 2007, estendendo ...     -0.059979\n",
       "69097   Prescreve advertência nas embalagens de bateri...     -0.064538\n",
       "97365   Acrescenta dispositivo a Lei nº 11.343, de 23 ...     -0.064940\n",
       "89648   Acrescenta o art. 11-A na Lei nº 5.811, de 11 ...     -0.067741\n",
       "68185   Obriga o produtor, o fabricante e o importador...     -0.095668\n",
       "93882   Acrescenta dispositivo ao art. 482 da Consolid...     -0.097275\n",
       "59172   Dispõe sobre o controle e comercialização da c...     -0.098253\n",
       "84808   Acresce o artigo 223-A ao Decreto-Lei nº 2.848...     -0.140477\n",
       "64690   Altera as Leis nº 8.212 e nº 8.213, ambas de 2...     -0.149613"
      ]
     },
     "execution_count": 46,
     "metadata": {},
     "output_type": "execute_result"
    }
   ],
   "source": [
    "similares_engenharia[similares_engenharia['resumo'].str.contains('química')]"
   ]
  },
  {
   "cell_type": "code",
   "execution_count": 47,
   "metadata": {
    "collapsed": false
   },
   "outputs": [
    {
     "data": {
      "text/html": [
       "<div>\n",
       "<table border=\"1\" class=\"dataframe\">\n",
       "  <thead>\n",
       "    <tr style=\"text-align: right;\">\n",
       "      <th></th>\n",
       "      <th>resumo</th>\n",
       "      <th>similaridade</th>\n",
       "    </tr>\n",
       "  </thead>\n",
       "  <tbody>\n",
       "    <tr>\n",
       "      <th>66423</th>\n",
       "      <td>Cria o fundo nacional de reciclagem do conheci...</td>\n",
       "      <td>0.089428</td>\n",
       "    </tr>\n",
       "    <tr>\n",
       "      <th>57384</th>\n",
       "      <td>Inclui a categoria de engenheiro-geólogo dentr...</td>\n",
       "      <td>0.040416</td>\n",
       "    </tr>\n",
       "    <tr>\n",
       "      <th>73233</th>\n",
       "      <td>Torna crime o fato de exercer a profissão de e...</td>\n",
       "      <td>0.030080</td>\n",
       "    </tr>\n",
       "    <tr>\n",
       "      <th>63968</th>\n",
       "      <td>Projeto de lei que altera a Lei nº 5.194, de 2...</td>\n",
       "      <td>0.021894</td>\n",
       "    </tr>\n",
       "    <tr>\n",
       "      <th>68825</th>\n",
       "      <td>Institui o dia do engenheiro de segurança do t...</td>\n",
       "      <td>0.016883</td>\n",
       "    </tr>\n",
       "    <tr>\n",
       "      <th>133</th>\n",
       "      <td>Eleva o salário de engenheiro da Tabela Suplem...</td>\n",
       "      <td>0.008461</td>\n",
       "    </tr>\n",
       "    <tr>\n",
       "      <th>78099</th>\n",
       "      <td>Dispõe sobre a especialização do engenheiro de...</td>\n",
       "      <td>-0.082305</td>\n",
       "    </tr>\n",
       "    <tr>\n",
       "      <th>64522</th>\n",
       "      <td>Estabelece benefício tributário para o aperfei...</td>\n",
       "      <td>-0.128487</td>\n",
       "    </tr>\n",
       "  </tbody>\n",
       "</table>\n",
       "</div>"
      ],
      "text/plain": [
       "                                                  resumo  similaridade\n",
       "66423  Cria o fundo nacional de reciclagem do conheci...      0.089428\n",
       "57384  Inclui a categoria de engenheiro-geólogo dentr...      0.040416\n",
       "73233  Torna crime o fato de exercer a profissão de e...      0.030080\n",
       "63968  Projeto de lei que altera a Lei nº 5.194, de 2...      0.021894\n",
       "68825  Institui o dia do engenheiro de segurança do t...      0.016883\n",
       "133    Eleva o salário de engenheiro da Tabela Suplem...      0.008461\n",
       "78099  Dispõe sobre a especialização do engenheiro de...     -0.082305\n",
       "64522  Estabelece benefício tributário para o aperfei...     -0.128487"
      ]
     },
     "execution_count": 47,
     "metadata": {},
     "output_type": "execute_result"
    }
   ],
   "source": [
    "similares_engenharia[similares_engenharia['resumo'].str.contains('engenheiro')]"
   ]
  },
  {
   "cell_type": "code",
   "execution_count": null,
   "metadata": {
    "collapsed": true
   },
   "outputs": [],
   "source": []
  }
 ],
 "metadata": {
  "kernelspec": {
   "display_name": "Python 3",
   "language": "python",
   "name": "python3"
  },
  "language_info": {
   "codemirror_mode": {
    "name": "ipython",
    "version": 3
   },
   "file_extension": ".py",
   "mimetype": "text/x-python",
   "name": "python",
   "nbconvert_exporter": "python",
   "pygments_lexer": "ipython3",
   "version": "3.5.2"
  }
 },
 "nbformat": 4,
 "nbformat_minor": 2
}
