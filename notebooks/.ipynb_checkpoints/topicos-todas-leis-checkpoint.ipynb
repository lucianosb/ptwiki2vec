{
 "cells": [
  {
   "cell_type": "code",
   "execution_count": 1,
   "metadata": {
    "collapsed": true
   },
   "outputs": [],
   "source": [
    "from gensim.models.doc2vec import Doc2Vec, TaggedDocument\n",
    "from gensim.utils import simple_preprocess\n",
    "import pandas as pd"
   ]
  },
  {
   "cell_type": "code",
   "execution_count": 4,
   "metadata": {
    "collapsed": false
   },
   "outputs": [],
   "source": [
    "model = Doc2Vec.load('../model/Doc2Vec(dbow+w,d200,n5,w8,mc2,s0.001,t8)')"
   ]
  },
  {
   "cell_type": "code",
   "execution_count": 5,
   "metadata": {
    "collapsed": false
   },
   "outputs": [
    {
     "name": "stderr",
     "output_type": "stream",
     "text": [
      "/usr/local/lib/python3.5/dist-packages/IPython/core/interactiveshell.py:2717: DtypeWarning: Columns (19) have mixed types. Specify dtype option on import or set low_memory=False.\n",
      "  interactivity=interactivity, compiler=compiler, result=result)\n"
     ]
    }
   ],
   "source": [
    "leis = pd.read_csv('../data/chamber_of_deputies_propositions.csv')"
   ]
  },
  {
   "cell_type": "code",
   "execution_count": 7,
   "metadata": {
    "collapsed": false
   },
   "outputs": [],
   "source": [
    "resumos = leis.summary.dropna(axis=0,how='all').tolist()"
   ]
  },
  {
   "cell_type": "markdown",
   "metadata": {},
   "source": [
    "Código abaixo tem previsão de executar durante 1h."
   ]
  },
  {
   "cell_type": "code",
   "execution_count": 15,
   "metadata": {
    "collapsed": false
   },
   "outputs": [
    {
     "name": "stdout",
     "output_type": "stream",
     "text": [
      "CPU times: user 6h 34min 44s, sys: 1h 37min 53s, total: 8h 12min 38s\n",
      "Wall time: 1h 5min 29s\n"
     ]
    }
   ],
   "source": [
    "%%time\n",
    "topicos_leis = []\n",
    "for resumo in resumos:\n",
    "    tokens = simple_preprocess(resumo)\n",
    "    inferred_vector = model.infer_vector(tokens)\n",
    "    similars = model.docvecs.most_similar([inferred_vector], topn=1)\n",
    "    topicos_leis.append([resumo, similars[0], similars[1]])"
   ]
  },
  {
   "cell_type": "code",
   "execution_count": 37,
   "metadata": {
    "collapsed": false
   },
   "outputs": [
    {
     "data": {
      "text/plain": [
       "[0.7427756786346436]"
      ]
     },
     "execution_count": 37,
     "metadata": {},
     "output_type": "execute_result"
    }
   ],
   "source": [
    "[topicos_leis[0][1][0][1]]"
   ]
  },
  {
   "cell_type": "code",
   "execution_count": 42,
   "metadata": {
    "collapsed": false
   },
   "outputs": [],
   "source": [
    "topicos_leis_df = pd.DataFrame(data=topicos_leis, columns=['lei','topicos'])"
   ]
  },
  {
   "cell_type": "code",
   "execution_count": 17,
   "metadata": {
    "collapsed": true
   },
   "outputs": [],
   "source": [
    "topicos_leis_df.to_csv('../results/topicos_leis.csv', index=False)"
   ]
  },
  {
   "cell_type": "code",
   "execution_count": 43,
   "metadata": {
    "collapsed": false
   },
   "outputs": [
    {
     "data": {
      "text/html": [
       "<div>\n",
       "<table border=\"1\" class=\"dataframe\">\n",
       "  <thead>\n",
       "    <tr style=\"text-align: right;\">\n",
       "      <th></th>\n",
       "      <th>lei</th>\n",
       "      <th>topicos</th>\n",
       "    </tr>\n",
       "  </thead>\n",
       "  <tbody>\n",
       "    <tr>\n",
       "      <th>0</th>\n",
       "      <td>TRANSFERE PARA O TESOURO NACIONAL PARTE DAS EM...</td>\n",
       "      <td>[(Departamento de Operações de Mercado Aberto ...</td>\n",
       "    </tr>\n",
       "    <tr>\n",
       "      <th>1</th>\n",
       "      <td>Torna extensivo aos alunos do Curso Prévio da ...</td>\n",
       "      <td>[(Instituto de Psicologia e Ciências da Educaç...</td>\n",
       "    </tr>\n",
       "    <tr>\n",
       "      <th>2</th>\n",
       "      <td>Altera o art. 154 do Decreto-lei nº 9.500 de 2...</td>\n",
       "      <td>[(Calendário eleitoral brasileiro de 2010, 0.6...</td>\n",
       "    </tr>\n",
       "    <tr>\n",
       "      <th>3</th>\n",
       "      <td>Indeniza os colonos do Núcleo Colonial São Ben...</td>\n",
       "      <td>[(Quartéis, 0.6698462963104248)]</td>\n",
       "    </tr>\n",
       "    <tr>\n",
       "      <th>4</th>\n",
       "      <td>Determina que os partidos políticos podem ser ...</td>\n",
       "      <td>[(Eleições legislativas portuguesas de 1822, 0...</td>\n",
       "    </tr>\n",
       "  </tbody>\n",
       "</table>\n",
       "</div>"
      ],
      "text/plain": [
       "                                                 lei  \\\n",
       "0  TRANSFERE PARA O TESOURO NACIONAL PARTE DAS EM...   \n",
       "1  Torna extensivo aos alunos do Curso Prévio da ...   \n",
       "2  Altera o art. 154 do Decreto-lei nº 9.500 de 2...   \n",
       "3  Indeniza os colonos do Núcleo Colonial São Ben...   \n",
       "4  Determina que os partidos políticos podem ser ...   \n",
       "\n",
       "                                             topicos  \n",
       "0  [(Departamento de Operações de Mercado Aberto ...  \n",
       "1  [(Instituto de Psicologia e Ciências da Educaç...  \n",
       "2  [(Calendário eleitoral brasileiro de 2010, 0.6...  \n",
       "3                   [(Quartéis, 0.6698462963104248)]  \n",
       "4  [(Eleições legislativas portuguesas de 1822, 0...  "
      ]
     },
     "execution_count": 43,
     "metadata": {},
     "output_type": "execute_result"
    }
   ],
   "source": [
    "topicos_leis_df.head(5)"
   ]
  },
  {
   "cell_type": "code",
   "execution_count": 21,
   "metadata": {
    "collapsed": false
   },
   "outputs": [
    {
     "data": {
      "text/html": [
       "<div>\n",
       "<table border=\"1\" class=\"dataframe\">\n",
       "  <thead>\n",
       "    <tr style=\"text-align: right;\">\n",
       "      <th></th>\n",
       "      <th>lei</th>\n",
       "      <th>topicos</th>\n",
       "    </tr>\n",
       "  </thead>\n",
       "  <tbody>\n",
       "    <tr>\n",
       "      <th>59538</th>\n",
       "      <td>Elimina a cobrança da taxa incidente sobre a A...</td>\n",
       "      <td>[(Tomada de preços, 0.6741481423377991)]</td>\n",
       "    </tr>\n",
       "    <tr>\n",
       "      <th>60087</th>\n",
       "      <td>Introduz alterações na Lei nº 6.496, de 7 de d...</td>\n",
       "      <td>[(Técnico industrial, 0.7110043168067932)]</td>\n",
       "    </tr>\n",
       "    <tr>\n",
       "      <th>60117</th>\n",
       "      <td>Estabelece normas para o uso das técnicas de e...</td>\n",
       "      <td>[(Bio-barro, 0.762894332408905)]</td>\n",
       "    </tr>\n",
       "    <tr>\n",
       "      <th>64775</th>\n",
       "      <td>Institui normas gerais para licitações e contr...</td>\n",
       "      <td>[(Termo de parceria, 0.7762426733970642)]</td>\n",
       "    </tr>\n",
       "    <tr>\n",
       "      <th>64989</th>\n",
       "      <td>Institui normas gerais sobre licitações e cont...</td>\n",
       "      <td>[(Termo de parceria, 0.7553833723068237)]</td>\n",
       "    </tr>\n",
       "    <tr>\n",
       "      <th>65646</th>\n",
       "      <td>Dispõe sobre pesquisas envolvendo seres humano...</td>\n",
       "      <td>[(Biologia química, 0.7945441007614136)]</td>\n",
       "    </tr>\n",
       "    <tr>\n",
       "      <th>65676</th>\n",
       "      <td>Altera a Lei nº 8.974, de 05 de janeiro de 199...</td>\n",
       "      <td>[(Comissão Técnica Nacional de Biossegurança, ...</td>\n",
       "    </tr>\n",
       "    <tr>\n",
       "      <th>67796</th>\n",
       "      <td>Institui normas gerais sobre licitações e cont...</td>\n",
       "      <td>[(Escola técnica federal, 0.7285183072090149)]</td>\n",
       "    </tr>\n",
       "    <tr>\n",
       "      <th>67797</th>\n",
       "      <td>Institui normas gerais para licitações e contr...</td>\n",
       "      <td>[(Fiscal tributário, 0.7664505243301392)]</td>\n",
       "    </tr>\n",
       "    <tr>\n",
       "      <th>69633</th>\n",
       "      <td>Altera a Lei nº 8.974, de 5 de janeiro de 1995...</td>\n",
       "      <td>[(Comissão Técnica Nacional de Biossegurança, ...</td>\n",
       "    </tr>\n",
       "    <tr>\n",
       "      <th>70934</th>\n",
       "      <td>Dispõe sobre o acesso à informação de valor di...</td>\n",
       "      <td>[(Assistente técnico-pedagógico, 0.75537300109...</td>\n",
       "    </tr>\n",
       "    <tr>\n",
       "      <th>71007</th>\n",
       "      <td>Acrescenta inciso ao art. 13, da Lei nº 8.974,...</td>\n",
       "      <td>[(Comissão Técnica Nacional de Biossegurança, ...</td>\n",
       "    </tr>\n",
       "    <tr>\n",
       "      <th>75323</th>\n",
       "      <td>Dispõe sobre a obrigatoriedade da realização d...</td>\n",
       "      <td>[(Microbiologia ambiental, 0.7321451902389526)]</td>\n",
       "    </tr>\n",
       "    <tr>\n",
       "      <th>76356</th>\n",
       "      <td>Dispõe sobre o acesso à informação de valor di...</td>\n",
       "      <td>[(Assistente técnico-pedagógico, 0.73951166868...</td>\n",
       "    </tr>\n",
       "    <tr>\n",
       "      <th>77303</th>\n",
       "      <td>Dispõe sobre a responsabilidade civil das empr...</td>\n",
       "      <td>[(Catálogo de cursos de pós-graduação stricto ...</td>\n",
       "    </tr>\n",
       "    <tr>\n",
       "      <th>80700</th>\n",
       "      <td>Regulamenta o uso de produtos e sub-produtos d...</td>\n",
       "      <td>[(Comitê de Monitoramento do Setor Elétrico, 0...</td>\n",
       "    </tr>\n",
       "    <tr>\n",
       "      <th>88044</th>\n",
       "      <td>Acrescenta artigo à Lei nº 8.666, de 21 de jun...</td>\n",
       "      <td>[(Engenharia Forense, 0.717534065246582)]</td>\n",
       "    </tr>\n",
       "    <tr>\n",
       "      <th>95107</th>\n",
       "      <td>Estabelece regras e critérios para elaboração ...</td>\n",
       "      <td>[(Fundo de Universalização dos Serviços de Tel...</td>\n",
       "    </tr>\n",
       "    <tr>\n",
       "      <th>99275</th>\n",
       "      <td>Autoriza a aplicação do Regime Diferenciado de...</td>\n",
       "      <td>[(Princípio do protetor-recebedor, 0.712365984...</td>\n",
       "    </tr>\n",
       "    <tr>\n",
       "      <th>102782</th>\n",
       "      <td>Dá nova redação ao § 1º do art. 7º da Lei nº 8...</td>\n",
       "      <td>[(Modelo de Requisitos para Sistemas Informati...</td>\n",
       "    </tr>\n",
       "    <tr>\n",
       "      <th>105413</th>\n",
       "      <td>Altera a Lei Complementar Nº 97, de 9 de junho...</td>\n",
       "      <td>[(Departamento Estadual de Trânsito de Sergipe...</td>\n",
       "    </tr>\n",
       "    <tr>\n",
       "      <th>106973</th>\n",
       "      <td>Altera a Lei nº 8.666, de 21 de junho de 1993,...</td>\n",
       "      <td>[(Instituto de Meio Ambiente do Acre, 0.706509...</td>\n",
       "    </tr>\n",
       "  </tbody>\n",
       "</table>\n",
       "</div>"
      ],
      "text/plain": [
       "                                                      lei  \\\n",
       "59538   Elimina a cobrança da taxa incidente sobre a A...   \n",
       "60087   Introduz alterações na Lei nº 6.496, de 7 de d...   \n",
       "60117   Estabelece normas para o uso das técnicas de e...   \n",
       "64775   Institui normas gerais para licitações e contr...   \n",
       "64989   Institui normas gerais sobre licitações e cont...   \n",
       "65646   Dispõe sobre pesquisas envolvendo seres humano...   \n",
       "65676   Altera a Lei nº 8.974, de 05 de janeiro de 199...   \n",
       "67796   Institui normas gerais sobre licitações e cont...   \n",
       "67797   Institui normas gerais para licitações e contr...   \n",
       "69633   Altera a Lei nº 8.974, de 5 de janeiro de 1995...   \n",
       "70934   Dispõe sobre o acesso à informação de valor di...   \n",
       "71007   Acrescenta inciso ao art. 13, da Lei nº 8.974,...   \n",
       "75323   Dispõe sobre a obrigatoriedade da realização d...   \n",
       "76356   Dispõe sobre o acesso à informação de valor di...   \n",
       "77303   Dispõe sobre a responsabilidade civil das empr...   \n",
       "80700   Regulamenta o uso de produtos e sub-produtos d...   \n",
       "88044   Acrescenta artigo à Lei nº 8.666, de 21 de jun...   \n",
       "95107   Estabelece regras e critérios para elaboração ...   \n",
       "99275   Autoriza a aplicação do Regime Diferenciado de...   \n",
       "102782  Dá nova redação ao § 1º do art. 7º da Lei nº 8...   \n",
       "105413  Altera a Lei Complementar Nº 97, de 9 de junho...   \n",
       "106973  Altera a Lei nº 8.666, de 21 de junho de 1993,...   \n",
       "\n",
       "                                                  topicos  \n",
       "59538            [(Tomada de preços, 0.6741481423377991)]  \n",
       "60087          [(Técnico industrial, 0.7110043168067932)]  \n",
       "60117                    [(Bio-barro, 0.762894332408905)]  \n",
       "64775           [(Termo de parceria, 0.7762426733970642)]  \n",
       "64989           [(Termo de parceria, 0.7553833723068237)]  \n",
       "65646            [(Biologia química, 0.7945441007614136)]  \n",
       "65676   [(Comissão Técnica Nacional de Biossegurança, ...  \n",
       "67796      [(Escola técnica federal, 0.7285183072090149)]  \n",
       "67797           [(Fiscal tributário, 0.7664505243301392)]  \n",
       "69633   [(Comissão Técnica Nacional de Biossegurança, ...  \n",
       "70934   [(Assistente técnico-pedagógico, 0.75537300109...  \n",
       "71007   [(Comissão Técnica Nacional de Biossegurança, ...  \n",
       "75323     [(Microbiologia ambiental, 0.7321451902389526)]  \n",
       "76356   [(Assistente técnico-pedagógico, 0.73951166868...  \n",
       "77303   [(Catálogo de cursos de pós-graduação stricto ...  \n",
       "80700   [(Comitê de Monitoramento do Setor Elétrico, 0...  \n",
       "88044           [(Engenharia Forense, 0.717534065246582)]  \n",
       "95107   [(Fundo de Universalização dos Serviços de Tel...  \n",
       "99275   [(Princípio do protetor-recebedor, 0.712365984...  \n",
       "102782  [(Modelo de Requisitos para Sistemas Informati...  \n",
       "105413  [(Departamento Estadual de Trânsito de Sergipe...  \n",
       "106973  [(Instituto de Meio Ambiente do Acre, 0.706509...  "
      ]
     },
     "execution_count": 21,
     "metadata": {},
     "output_type": "execute_result"
    }
   ],
   "source": [
    "topicos_leis_df[topicos_leis_df.lei.str.contains('engenharia')]"
   ]
  }
 ],
 "metadata": {
  "kernelspec": {
   "display_name": "Python 3",
   "language": "python",
   "name": "python3"
  },
  "language_info": {
   "codemirror_mode": {
    "name": "ipython",
    "version": 3
   },
   "file_extension": ".py",
   "mimetype": "text/x-python",
   "name": "python",
   "nbconvert_exporter": "python",
   "pygments_lexer": "ipython3",
   "version": "3.5.2"
  }
 },
 "nbformat": 4,
 "nbformat_minor": 2
}
