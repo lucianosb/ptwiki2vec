{
 "cells": [
  {
   "cell_type": "code",
   "execution_count": 1,
   "metadata": {
    "collapsed": true
   },
   "outputs": [],
   "source": [
    "import pandas as pd"
   ]
  },
  {
   "cell_type": "code",
   "execution_count": 11,
   "metadata": {
    "collapsed": true
   },
   "outputs": [],
   "source": [
    "topicos_leis = pd.read_csv('../results/topicos_leis.csv')"
   ]
  },
  {
   "cell_type": "code",
   "execution_count": 12,
   "metadata": {
    "collapsed": false
   },
   "outputs": [
    {
     "data": {
      "text/html": [
       "<div>\n",
       "<table border=\"1\" class=\"dataframe\">\n",
       "  <thead>\n",
       "    <tr style=\"text-align: right;\">\n",
       "      <th></th>\n",
       "      <th>lei</th>\n",
       "      <th>topicos</th>\n",
       "    </tr>\n",
       "  </thead>\n",
       "  <tbody>\n",
       "    <tr>\n",
       "      <th>0</th>\n",
       "      <td>TRANSFERE PARA O TESOURO NACIONAL PARTE DAS EM...</td>\n",
       "      <td>[('Departamento de Operações de Mercado Aberto...</td>\n",
       "    </tr>\n",
       "    <tr>\n",
       "      <th>1</th>\n",
       "      <td>Torna extensivo aos alunos do Curso Prévio da ...</td>\n",
       "      <td>[('Instituto de Psicologia e Ciências da Educa...</td>\n",
       "    </tr>\n",
       "    <tr>\n",
       "      <th>2</th>\n",
       "      <td>Altera o art. 154 do Decreto-lei nº 9.500 de 2...</td>\n",
       "      <td>[('Calendário eleitoral brasileiro de 2010', 0...</td>\n",
       "    </tr>\n",
       "    <tr>\n",
       "      <th>3</th>\n",
       "      <td>Indeniza os colonos do Núcleo Colonial São Ben...</td>\n",
       "      <td>[('Quartéis', 0.6698462963104248)]</td>\n",
       "    </tr>\n",
       "    <tr>\n",
       "      <th>4</th>\n",
       "      <td>Determina que os partidos políticos podem ser ...</td>\n",
       "      <td>[('Eleições legislativas portuguesas de 1822',...</td>\n",
       "    </tr>\n",
       "  </tbody>\n",
       "</table>\n",
       "</div>"
      ],
      "text/plain": [
       "                                                 lei  \\\n",
       "0  TRANSFERE PARA O TESOURO NACIONAL PARTE DAS EM...   \n",
       "1  Torna extensivo aos alunos do Curso Prévio da ...   \n",
       "2  Altera o art. 154 do Decreto-lei nº 9.500 de 2...   \n",
       "3  Indeniza os colonos do Núcleo Colonial São Ben...   \n",
       "4  Determina que os partidos políticos podem ser ...   \n",
       "\n",
       "                                             topicos  \n",
       "0  [('Departamento de Operações de Mercado Aberto...  \n",
       "1  [('Instituto de Psicologia e Ciências da Educa...  \n",
       "2  [('Calendário eleitoral brasileiro de 2010', 0...  \n",
       "3                 [('Quartéis', 0.6698462963104248)]  \n",
       "4  [('Eleições legislativas portuguesas de 1822',...  "
      ]
     },
     "execution_count": 12,
     "metadata": {},
     "output_type": "execute_result"
    }
   ],
   "source": [
    "topicos_leis.head(5)"
   ]
  },
  {
   "cell_type": "code",
   "execution_count": 14,
   "metadata": {
    "collapsed": false
   },
   "outputs": [],
   "source": [
    "topicos_leis.topicos = topicos_leis.topicos.str.replace(\"\\[\\('\", \"\")\n",
    "topicos_leis.topicos = topicos_leis.topicos.str.replace(\"\\)\\]\", \"\")"
   ]
  },
  {
   "cell_type": "code",
   "execution_count": 16,
   "metadata": {
    "collapsed": false
   },
   "outputs": [
    {
     "data": {
      "text/html": [
       "<div>\n",
       "<table border=\"1\" class=\"dataframe\">\n",
       "  <thead>\n",
       "    <tr style=\"text-align: right;\">\n",
       "      <th></th>\n",
       "      <th>lei</th>\n",
       "      <th>topicos</th>\n",
       "    </tr>\n",
       "  </thead>\n",
       "  <tbody>\n",
       "    <tr>\n",
       "      <th>0</th>\n",
       "      <td>TRANSFERE PARA O TESOURO NACIONAL PARTE DAS EM...</td>\n",
       "      <td>Departamento de Operações de Mercado Aberto do...</td>\n",
       "    </tr>\n",
       "    <tr>\n",
       "      <th>1</th>\n",
       "      <td>Torna extensivo aos alunos do Curso Prévio da ...</td>\n",
       "      <td>Instituto de Psicologia e Ciências da Educação...</td>\n",
       "    </tr>\n",
       "    <tr>\n",
       "      <th>2</th>\n",
       "      <td>Altera o art. 154 do Decreto-lei nº 9.500 de 2...</td>\n",
       "      <td>Calendário eleitoral brasileiro de 2010', 0.68...</td>\n",
       "    </tr>\n",
       "    <tr>\n",
       "      <th>3</th>\n",
       "      <td>Indeniza os colonos do Núcleo Colonial São Ben...</td>\n",
       "      <td>Quartéis', 0.6698462963104248</td>\n",
       "    </tr>\n",
       "    <tr>\n",
       "      <th>4</th>\n",
       "      <td>Determina que os partidos políticos podem ser ...</td>\n",
       "      <td>Eleições legislativas portuguesas de 1822', 0....</td>\n",
       "    </tr>\n",
       "  </tbody>\n",
       "</table>\n",
       "</div>"
      ],
      "text/plain": [
       "                                                 lei  \\\n",
       "0  TRANSFERE PARA O TESOURO NACIONAL PARTE DAS EM...   \n",
       "1  Torna extensivo aos alunos do Curso Prévio da ...   \n",
       "2  Altera o art. 154 do Decreto-lei nº 9.500 de 2...   \n",
       "3  Indeniza os colonos do Núcleo Colonial São Ben...   \n",
       "4  Determina que os partidos políticos podem ser ...   \n",
       "\n",
       "                                             topicos  \n",
       "0  Departamento de Operações de Mercado Aberto do...  \n",
       "1  Instituto de Psicologia e Ciências da Educação...  \n",
       "2  Calendário eleitoral brasileiro de 2010', 0.68...  \n",
       "3                      Quartéis', 0.6698462963104248  \n",
       "4  Eleições legislativas portuguesas de 1822', 0....  "
      ]
     },
     "execution_count": 16,
     "metadata": {},
     "output_type": "execute_result"
    }
   ],
   "source": [
    "topicos_leis.head(5)"
   ]
  },
  {
   "cell_type": "code",
   "execution_count": 18,
   "metadata": {
    "collapsed": false
   },
   "outputs": [],
   "source": [
    "topicos_leis['similaridade'] = topicos_leis['topicos']"
   ]
  },
  {
   "cell_type": "code",
   "execution_count": 19,
   "metadata": {
    "collapsed": false
   },
   "outputs": [
    {
     "data": {
      "text/html": [
       "<div>\n",
       "<table border=\"1\" class=\"dataframe\">\n",
       "  <thead>\n",
       "    <tr style=\"text-align: right;\">\n",
       "      <th></th>\n",
       "      <th>lei</th>\n",
       "      <th>topicos</th>\n",
       "      <th>similaridade</th>\n",
       "    </tr>\n",
       "  </thead>\n",
       "  <tbody>\n",
       "    <tr>\n",
       "      <th>0</th>\n",
       "      <td>TRANSFERE PARA O TESOURO NACIONAL PARTE DAS EM...</td>\n",
       "      <td>Departamento de Operações de Mercado Aberto do...</td>\n",
       "      <td>Departamento de Operações de Mercado Aberto do...</td>\n",
       "    </tr>\n",
       "    <tr>\n",
       "      <th>1</th>\n",
       "      <td>Torna extensivo aos alunos do Curso Prévio da ...</td>\n",
       "      <td>Instituto de Psicologia e Ciências da Educação...</td>\n",
       "      <td>Instituto de Psicologia e Ciências da Educação...</td>\n",
       "    </tr>\n",
       "    <tr>\n",
       "      <th>2</th>\n",
       "      <td>Altera o art. 154 do Decreto-lei nº 9.500 de 2...</td>\n",
       "      <td>Calendário eleitoral brasileiro de 2010', 0.68...</td>\n",
       "      <td>Calendário eleitoral brasileiro de 2010', 0.68...</td>\n",
       "    </tr>\n",
       "    <tr>\n",
       "      <th>3</th>\n",
       "      <td>Indeniza os colonos do Núcleo Colonial São Ben...</td>\n",
       "      <td>Quartéis', 0.6698462963104248</td>\n",
       "      <td>Quartéis', 0.6698462963104248</td>\n",
       "    </tr>\n",
       "    <tr>\n",
       "      <th>4</th>\n",
       "      <td>Determina que os partidos políticos podem ser ...</td>\n",
       "      <td>Eleições legislativas portuguesas de 1822', 0....</td>\n",
       "      <td>Eleições legislativas portuguesas de 1822', 0....</td>\n",
       "    </tr>\n",
       "  </tbody>\n",
       "</table>\n",
       "</div>"
      ],
      "text/plain": [
       "                                                 lei  \\\n",
       "0  TRANSFERE PARA O TESOURO NACIONAL PARTE DAS EM...   \n",
       "1  Torna extensivo aos alunos do Curso Prévio da ...   \n",
       "2  Altera o art. 154 do Decreto-lei nº 9.500 de 2...   \n",
       "3  Indeniza os colonos do Núcleo Colonial São Ben...   \n",
       "4  Determina que os partidos políticos podem ser ...   \n",
       "\n",
       "                                             topicos  \\\n",
       "0  Departamento de Operações de Mercado Aberto do...   \n",
       "1  Instituto de Psicologia e Ciências da Educação...   \n",
       "2  Calendário eleitoral brasileiro de 2010', 0.68...   \n",
       "3                      Quartéis', 0.6698462963104248   \n",
       "4  Eleições legislativas portuguesas de 1822', 0....   \n",
       "\n",
       "                                        similaridade  \n",
       "0  Departamento de Operações de Mercado Aberto do...  \n",
       "1  Instituto de Psicologia e Ciências da Educação...  \n",
       "2  Calendário eleitoral brasileiro de 2010', 0.68...  \n",
       "3                      Quartéis', 0.6698462963104248  \n",
       "4  Eleições legislativas portuguesas de 1822', 0....  "
      ]
     },
     "execution_count": 19,
     "metadata": {},
     "output_type": "execute_result"
    }
   ],
   "source": [
    "topicos_leis.head(5)"
   ]
  },
  {
   "cell_type": "code",
   "execution_count": 26,
   "metadata": {
    "collapsed": false
   },
   "outputs": [],
   "source": [
    "topicos_leis.topicos = topicos_leis.topicos.str.replace(\"',.*\", '')"
   ]
  },
  {
   "cell_type": "code",
   "execution_count": 28,
   "metadata": {
    "collapsed": false
   },
   "outputs": [],
   "source": [
    "topicos_leis.similaridade = topicos_leis.similaridade.str.replace(\".*',\", \"\")"
   ]
  },
  {
   "cell_type": "code",
   "execution_count": 29,
   "metadata": {
    "collapsed": false
   },
   "outputs": [
    {
     "data": {
      "text/html": [
       "<div>\n",
       "<table border=\"1\" class=\"dataframe\">\n",
       "  <thead>\n",
       "    <tr style=\"text-align: right;\">\n",
       "      <th></th>\n",
       "      <th>lei</th>\n",
       "      <th>topicos</th>\n",
       "      <th>similaridade</th>\n",
       "    </tr>\n",
       "  </thead>\n",
       "  <tbody>\n",
       "    <tr>\n",
       "      <th>0</th>\n",
       "      <td>TRANSFERE PARA O TESOURO NACIONAL PARTE DAS EM...</td>\n",
       "      <td>Departamento de Operações de Mercado Aberto do...</td>\n",
       "      <td>0.7427756786346436</td>\n",
       "    </tr>\n",
       "    <tr>\n",
       "      <th>1</th>\n",
       "      <td>Torna extensivo aos alunos do Curso Prévio da ...</td>\n",
       "      <td>Instituto de Psicologia e Ciências da Educação...</td>\n",
       "      <td>0.6212210655212402</td>\n",
       "    </tr>\n",
       "    <tr>\n",
       "      <th>2</th>\n",
       "      <td>Altera o art. 154 do Decreto-lei nº 9.500 de 2...</td>\n",
       "      <td>Calendário eleitoral brasileiro de 2010</td>\n",
       "      <td>0.6844638586044312</td>\n",
       "    </tr>\n",
       "    <tr>\n",
       "      <th>3</th>\n",
       "      <td>Indeniza os colonos do Núcleo Colonial São Ben...</td>\n",
       "      <td>Quartéis</td>\n",
       "      <td>0.6698462963104248</td>\n",
       "    </tr>\n",
       "    <tr>\n",
       "      <th>4</th>\n",
       "      <td>Determina que os partidos políticos podem ser ...</td>\n",
       "      <td>Eleições legislativas portuguesas de 1822</td>\n",
       "      <td>0.7078595161437988</td>\n",
       "    </tr>\n",
       "  </tbody>\n",
       "</table>\n",
       "</div>"
      ],
      "text/plain": [
       "                                                 lei  \\\n",
       "0  TRANSFERE PARA O TESOURO NACIONAL PARTE DAS EM...   \n",
       "1  Torna extensivo aos alunos do Curso Prévio da ...   \n",
       "2  Altera o art. 154 do Decreto-lei nº 9.500 de 2...   \n",
       "3  Indeniza os colonos do Núcleo Colonial São Ben...   \n",
       "4  Determina que os partidos políticos podem ser ...   \n",
       "\n",
       "                                             topicos         similaridade  \n",
       "0  Departamento de Operações de Mercado Aberto do...   0.7427756786346436  \n",
       "1  Instituto de Psicologia e Ciências da Educação...   0.6212210655212402  \n",
       "2            Calendário eleitoral brasileiro de 2010   0.6844638586044312  \n",
       "3                                           Quartéis   0.6698462963104248  \n",
       "4          Eleições legislativas portuguesas de 1822   0.7078595161437988  "
      ]
     },
     "execution_count": 29,
     "metadata": {},
     "output_type": "execute_result"
    }
   ],
   "source": [
    "topicos_leis.head(5)"
   ]
  },
  {
   "cell_type": "code",
   "execution_count": 30,
   "metadata": {
    "collapsed": true
   },
   "outputs": [],
   "source": [
    "topicos_leis.to_csv('../results/topicos_leis_similaridade.csv', index=False)"
   ]
  }
 ],
 "metadata": {
  "kernelspec": {
   "display_name": "Python 3",
   "language": "python",
   "name": "python3"
  },
  "language_info": {
   "codemirror_mode": {
    "name": "ipython",
    "version": 3
   },
   "file_extension": ".py",
   "mimetype": "text/x-python",
   "name": "python",
   "nbconvert_exporter": "python",
   "pygments_lexer": "ipython3",
   "version": "3.5.2"
  }
 },
 "nbformat": 4,
 "nbformat_minor": 2
}
