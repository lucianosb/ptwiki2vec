{
 "cells": [
  {
   "cell_type": "code",
   "execution_count": 26,
   "metadata": {
    "collapsed": true
   },
   "outputs": [],
   "source": [
    "from gensim.corpora.wikicorpus import WikiCorpus\n",
    "from gensim.models.doc2vec import Doc2Vec, TaggedDocument\n",
    "from gensim.utils import simple_preprocess\n",
    "from pprint import pprint\n",
    "import multiprocessing"
   ]
  },
  {
   "cell_type": "code",
   "execution_count": 4,
   "metadata": {
    "collapsed": true
   },
   "outputs": [],
   "source": [
    "wiki = WikiCorpus(\"ptwiki-20180101-pages-articles.xml.bz2\")"
   ]
  },
  {
   "cell_type": "code",
   "execution_count": 5,
   "metadata": {
    "collapsed": false
   },
   "outputs": [],
   "source": [
    "class TaggedWikiDocument(object):\n",
    "    def __init__(self, wiki):\n",
    "        self.wiki = wiki\n",
    "        self.wiki.metadata = True\n",
    "    def __iter__(self):\n",
    "        for content, (page_id, title) in self.wiki.get_texts():\n",
    "            yield TaggedDocument([c for c in content], [title])"
   ]
  },
  {
   "cell_type": "code",
   "execution_count": 6,
   "metadata": {
    "collapsed": false
   },
   "outputs": [],
   "source": [
    "documents = TaggedWikiDocument(wiki)"
   ]
  },
  {
   "cell_type": "code",
   "execution_count": 9,
   "metadata": {
    "collapsed": false
   },
   "outputs": [],
   "source": [
    "pre = Doc2Vec(min_count = 0)\n",
    "pre.scan_vocab(documents)"
   ]
  },
  {
   "cell_type": "code",
   "execution_count": 10,
   "metadata": {
    "collapsed": false
   },
   "outputs": [
    {
     "name": "stdout",
     "output_type": "stream",
     "text": [
      "min_count: 0, size of vocab:  1648766.4285714286\n",
      "min_count: 1, size of vocab:  1648766.4285714286\n",
      "min_count: 2, size of vocab:  829600.0\n",
      "min_count: 3, size of vocab:  601290.0\n",
      "min_count: 4, size of vocab:  491646.4285714286\n",
      "min_count: 5, size of vocab:  422730.71428571426\n",
      "min_count: 6, size of vocab:  376028.5714285714\n",
      "min_count: 7, size of vocab:  340491.4285714286\n",
      "min_count: 8, size of vocab:  311821.4285714286\n",
      "min_count: 9, size of vocab:  289728.5714285714\n",
      "min_count: 10, size of vocab:  271503.5714285714\n",
      "min_count: 11, size of vocab:  256016.42857142858\n",
      "min_count: 12, size of vocab:  242602.14285714287\n",
      "min_count: 13, size of vocab:  230754.2857142857\n",
      "min_count: 14, size of vocab:  220620.0\n",
      "min_count: 15, size of vocab:  211390.0\n",
      "min_count: 16, size of vocab:  203138.57142857142\n",
      "min_count: 17, size of vocab:  195667.14285714287\n",
      "min_count: 18, size of vocab:  188942.85714285713\n",
      "min_count: 19, size of vocab:  182740.7142857143\n"
     ]
    }
   ],
   "source": [
    "for num in range(0,20):\n",
    "    print('min_count: {}, size of vocab: '.format(num), \n",
    "          pre.scale_vocab(min_count=num,dry_run=True)['memory']['vocab']/700)"
   ]
  },
  {
   "cell_type": "code",
   "execution_count": 11,
   "metadata": {
    "collapsed": true
   },
   "outputs": [],
   "source": [
    "cores = multiprocessing.cpu_count()\n",
    "\n",
    "models = [\n",
    "    Doc2Vec(dm=0, dbow_words=1, size=200, window=8, min_count=2, iter=10, workers=cores),\n",
    "    Doc2Vec(dm=1, dm_mean=1, size=200, window=8, min_count=2, iter=10, workers=cores)\n",
    "]"
   ]
  },
  {
   "cell_type": "code",
   "execution_count": 12,
   "metadata": {
    "collapsed": false,
    "scrolled": true
   },
   "outputs": [
    {
     "name": "stdout",
     "output_type": "stream",
     "text": [
      "Doc2Vec(dbow+w,d200,n5,w8,mc2,s0.001,t8)\n",
      "Doc2Vec(dm/m,d200,n5,w8,mc2,s0.001,t8)\n"
     ]
    }
   ],
   "source": [
    "models[0].build_vocab(documents)\n",
    "print(str(models[0]))\n",
    "models[1].reset_from(models[0])time model.t)"
   ]
  },
  {
   "cell_type": "code",
   "execution_count": 13,
   "metadata": {
    "collapsed": false
   },
   "outputs": [
    {
     "name": "stdout",
     "output_type": "stream",
     "text": [
      "CPU times: user 21h 26min 47s, sys: 7min 28s, total: 21h 34min 16s\n",
      "Wall time: 4h 29min 48s\n",
      "CPU times: user 3h 33min 20s, sys: 5min 12s, total: 3h 38min 33s\n",
      "Wall time: 2h 24min 6s\n"
     ]
    }
   ],
   "source": [
    "for model in models:\n",
    "    %%time model.train(documents, total_examples=model.corpus_count, epochs=model.iter)"
   ]
  },
  {
   "cell_type": "code",
   "execution_count": 20,
   "metadata": {
    "collapsed": false
   },
   "outputs": [
    {
     "name": "stdout",
     "output_type": "stream",
     "text": [
      "Doc2Vec(dbow+w,d200,n5,w8,mc2,s0.001,t8)\n",
      "[('Quociente de inteligência', 0.702828586101532),\n",
      " ('Pensamento divergente', 0.6468408107757568),\n",
      " ('Teoria g', 0.6415136456489563),\n",
      " ('Matrizes Progressivas de Raven', 0.6334096789360046),\n",
      " ('Competência (psicologia)', 0.6279304027557373),\n",
      " ('Autismo altamente-funcional', 0.6241010427474976),\n",
      " ('Lógica e racionalidade', 0.6216001510620117),\n",
      " ('Modelo científico', 0.616083025932312),\n",
      " ('Psicologia comportamental', 0.6154487133026123),\n",
      " ('Inteligência emocional', 0.6144423484802246)]\n",
      "Doc2Vec(dm/m,d200,n5,w8,mc2,s0.001,t8)\n",
      "[('Teoria g', 0.6904677748680115),\n",
      " ('Teste psicológico', 0.6620209217071533),\n",
      " ('Inteligência emocional', 0.6590678095817566),\n",
      " ('Zona de desenvolvimento proximal', 0.6482210159301758),\n",
      " ('Psicologia da personalidade', 0.6440185308456421),\n",
      " ('Quociente de inteligência', 0.6423906087875366),\n",
      " ('Competência social', 0.6331567168235779),\n",
      " ('Gênio (pessoa)', 0.6320877075195312),\n",
      " ('Análise sensorial', 0.6313241720199585),\n",
      " ('Efeito Forer', 0.6311826109886169)]\n"
     ]
    }
   ],
   "source": [
    "for model in models:\n",
    "    print(str(model))\n",
    "    pprint(model.docvecs.most_similar(positive=[\"Inteligência\"], topn=10))"
   ]
  },
  {
   "cell_type": "code",
   "execution_count": 15,
   "metadata": {
    "collapsed": false
   },
   "outputs": [
    {
     "name": "stdout",
     "output_type": "stream",
     "text": [
      "Doc2Vec(dbow+w,d200,n5,w8,mc2,s0.001,t8)\n",
      "[('Adele', 0.6877843141555786),\n",
      " ('Christina Aguilera', 0.670610249042511),\n",
      " ('Rihanna', 0.6683495044708252),\n",
      " ('Mariah Carey', 0.6533797979354858),\n",
      " ('Born This Way', 0.6523556709289551),\n",
      " ('LoveGame', 0.6518796682357788),\n",
      " ('Katy Perry', 0.6504320502281189),\n",
      " ('Single Ladies (Put a Ring on It)', 0.6492538452148438),\n",
      " ('Bad Romance', 0.6467785835266113),\n",
      " ('The Fame', 0.6421879529953003)]\n",
      "Doc2Vec(dm/m,d200,n5,w8,mc2,s0.001,t8)\n",
      "[('The Fame', 0.6751108169555664),\n",
      " ('Bad Romance', 0.6534554958343506),\n",
      " ('The Fame Monster', 0.6474413275718689),\n",
      " ('Born This Way', 0.6441248655319214),\n",
      " ('Born This Way (canção)', 0.6429762840270996),\n",
      " ('Just Dance', 0.6380847096443176),\n",
      " ('LoveGame', 0.6323598623275757),\n",
      " ('Joanne (álbum)', 0.6285462379455566),\n",
      " ('Speechless (canção)', 0.6284322738647461),\n",
      " ('Fashion of His Love', 0.6250290870666504)]\n"
     ]
    }
   ],
   "source": [
    "for model in models:\n",
    "    print(str(model))\n",
    "    pprint(model.docvecs.most_similar(positive=[\"Lady Gaga\"], topn=10))"
   ]
  },
  {
   "cell_type": "code",
   "execution_count": 16,
   "metadata": {
    "collapsed": false
   },
   "outputs": [
    {
     "name": "stdout",
     "output_type": "stream",
     "text": [
      "Doc2Vec(dbow+w,d200,n5,w8,mc2,s0.001,t8)\n",
      "[('How Beautiful You Are', 0.5841714143753052),\n",
      " ('Hiroko Shimabukuro', 0.5547493696212769),\n",
      " ('Born This Way (canção)', 0.5529972910881042),\n",
      " ('Fairies (álbum)', 0.552701473236084),\n",
      " ('Dos Angeles', 0.5523363351821899),\n",
      " ('The 1st Concert In Japan \"Shinee World\"', 0.5519884824752808),\n",
      " ('Beyoncé: The Ultimate Performer', 0.5501809120178223),\n",
      " ('Beloved', 0.5420556664466858),\n",
      " ('GBI (German Bold Italic)', 0.5419186949729919),\n",
      " ('Spiderwebs', 0.5405997633934021)]\n",
      "Doc2Vec(dm/m,d200,n5,w8,mc2,s0.001,t8)\n",
      "[('Osaka (cidade)', 0.5056620240211487),\n",
      " ('Rikki', 0.4907521605491638),\n",
      " ('Tanaka Isson', 0.4895462691783905),\n",
      " ('◯◯ Ganbaranakutemo Eenende!!', 0.48410287499427795),\n",
      " ('Kumi Koda', 0.4797716736793518),\n",
      " ('Watarasebashi', 0.4783862829208374),\n",
      " ('Kiyoshi Hikawa', 0.4778934717178345),\n",
      " ('Babymetal × Kiba of Akiba', 0.4744834899902344),\n",
      " ('Kimaguren', 0.4740353524684906),\n",
      " ('Puffy Amiyumi x Puffy', 0.47362032532691956),\n",
      " ('Bairros do Japão', 0.47345948219299316)]\n"
     ]
    },
    {
     "name": "stderr",
     "output_type": "stream",
     "text": [
      "/usr/local/lib/python3.5/dist-packages/ipykernel/__main__.py:3: DeprecationWarning: Call to deprecated `__getitem__` (Method will be removed in 4.0.0, use self.wv.__getitem__() instead).\n",
      "  app.launch_new_instance()\n"
     ]
    }
   ],
   "source": [
    "for model in models:\n",
    "    print(str(model))\n",
    "    vec = [model.docvecs[\"Lady Gaga\"] - model[\"american\"] + model[\"japanese\"]]\n",
    "    pprint([m for m in model.docvecs.most_similar(vec, topn=11) if m[0] != \"Lady Gaga\"])\n"
   ]
  },
  {
   "cell_type": "code",
   "execution_count": 24,
   "metadata": {
    "collapsed": false
   },
   "outputs": [
    {
     "name": "stdout",
     "output_type": "stream",
     "text": [
      "Doc2Vec(dbow+w,d200,n5,w8,mc2,s0.001,t8)\n",
      "[('rainha', 0.7577492594718933),\n",
      " ('consorte', 0.6718885898590088),\n",
      " ('filha', 0.6586146354675293),\n",
      " ('esposa', 0.6581082344055176),\n",
      " ('princesa', 0.6393976211547852),\n",
      " ('herdeira', 0.6299619674682617),\n",
      " ('sujarinee', 0.6268012523651123),\n",
      " ('somanat', 0.6259405016899109),\n",
      " ('mahendradatta', 0.6246206760406494),\n",
      " ('jonsdotter', 0.6238503456115723)]\n",
      "Doc2Vec(dm/m,d200,n5,w8,mc2,s0.001,t8)\n",
      "[('rainha', 0.6301841735839844),\n",
      " ('esposa', 0.6233345866203308),\n",
      " ('mulher', 0.6099225878715515),\n",
      " ('princesa', 0.5634665489196777),\n",
      " ('concubina', 0.5331172347068787),\n",
      " ('filha', 0.5082984566688538),\n",
      " ('dama', 0.49854812026023865),\n",
      " ('monarca', 0.4933313727378845),\n",
      " ('consorte', 0.4898892939090729),\n",
      " ('madrasta', 0.4833236038684845)]\n"
     ]
    },
    {
     "name": "stderr",
     "output_type": "stream",
     "text": [
      "/usr/local/lib/python3.5/dist-packages/ipykernel/__main__.py:3: DeprecationWarning: Call to deprecated `__getitem__` (Method will be removed in 4.0.0, use self.wv.__getitem__() instead).\n",
      "  app.launch_new_instance()\n",
      "/usr/local/lib/python3.5/dist-packages/ipykernel/__main__.py:4: DeprecationWarning: Call to deprecated `most_similar` (Method will be removed in 4.0.0, use self.wv.most_similar() instead).\n"
     ]
    }
   ],
   "source": [
    "for model in models:\n",
    "    print(str(model))\n",
    "    vec = [model[\"rei\"] - model[\"homem\"] + model[\"mulher\"]]\n",
    "    pprint([m for m in model.most_similar(vec, topn=11) if m[0] != \"rei\"])\n"
   ]
  },
  {
   "cell_type": "code",
   "execution_count": 31,
   "metadata": {
    "collapsed": false
   },
   "outputs": [
    {
     "name": "stdout",
     "output_type": "stream",
     "text": [
      "['acrescenta', 'dispositivos', 'ao', 'código', 'de', 'processo', 'penal', 'para', 'determinar', 'especificação', 'de', 'gênero', 'no', 'inquérito', 'policial', 'processo', 'penal', 'estatísticas', 'correspondentes', 'dá', 'outras', 'providências']\n"
     ]
    }
   ],
   "source": [
    "doc = \"Acrescenta dispositivos ao Código de Processo Penal para determinar a especificação de gênero no \n",
    "        inquérito policial, processo penal e estatísticas correspondentes e dá outras providências.\"\n",
    "\n",
    "tokens = simple_preprocess(doc)\n",
    "print(tokens)"
   ]
  },
  {
   "cell_type": "code",
   "execution_count": 32,
   "metadata": {
    "collapsed": false
   },
   "outputs": [
    {
     "name": "stdout",
     "output_type": "stream",
     "text": [
      "Doc2Vec(dbow+w,d200,n5,w8,mc2,s0.001,t8)\n",
      "[('Fraude processual', 0.738481879234314),\n",
      " ('Falso testemunho ou falsa perícia', 0.7367019653320312),\n",
      " ('Processo de conhecimento', 0.736674427986145),\n",
      " ('Estrito cumprimento de dever legal', 0.7224631309509277),\n",
      " ('Princípio dispositivo', 0.721563458442688),\n",
      " ('Carta testemunhável', 0.7192434072494507),\n",
      " ('Judicialiforme', 0.7121644020080566),\n",
      " ('Despacho', 0.7117525339126587),\n",
      " ('Prescrição retroativa', 0.7102814316749573),\n",
      " ('Erro judicial', 0.7086154222488403)]\n",
      "Doc2Vec(dm/m,d200,n5,w8,mc2,s0.001,t8)\n",
      "[('Acacia robusta robusta', 0.6625255346298218),\n",
      " ('Acacia microcarpa', 0.6595112681388855),\n",
      " ('Coleophora sudanella', 0.6506903171539307),\n",
      " ('Acacia philippinarum', 0.6487383246421814),\n",
      " ('Perotrochus metivieri', 0.6475683450698853),\n",
      " ('4280 Simonenko', 0.6459099054336548),\n",
      " ('Exsilirarcha', 0.6446590423583984),\n",
      " ('Tau5 Serpentis', 0.643500804901123),\n",
      " ('Tetramorium impurum', 0.6431348323822021),\n",
      " ('2003 TK58', 0.6425009965896606)]\n"
     ]
    }
   ],
   "source": [
    "for model in models:\n",
    "    print(str(model))\n",
    "    inferred = model.infer_vector(tokens)\n",
    "    sims = model.docvecs.most_similar([inferred], topn=10)\n",
    "    pprint(sims)"
   ]
  },
  {
   "cell_type": "code",
   "execution_count": 51,
   "metadata": {
    "collapsed": false
   },
   "outputs": [],
   "source": [
    "docs = [\n",
    "    \"Acrescenta dispositivos ao Código de Processo Penal para determinar a especificação de gênero no inquérito policial, processo penal e estatísticas correspondentes e dá outras providências.\",\n",
    "    \"Dá nova redação ao § 1º do art. 7º da Lei nº 8.666, de 21 de junho de 1993, para estabelecer a obrigatoriedade do sistema de modelagem da informação da construção, identificado pela sigla inglesa BIM - Building Information Model, na confecção de projetos executivos de obras e serviços de engenharia contratados pelos órgãos e entidades da administração pública, e dá outras providências.\",\n",
    "    \"Determina a inclusão de quadras poliesportivas nos projetos de construção de novos estabelecimentos públicos de ensino fundamental e de ensino médio.\",\n",
    "    \"Torna obrigatória a presença de profissional da área de Fonoaudiologia em todas escolas públicas e privadas de ensino fundamental.\"\n",
    "]"
   ]
  },
  {
   "cell_type": "code",
   "execution_count": 52,
   "metadata": {
    "collapsed": false
   },
   "outputs": [
    {
     "name": "stdout",
     "output_type": "stream",
     "text": [
      "Doc2Vec(dbow+w,d200,n5,w8,mc2,s0.001,t8)\n",
      "-0.009694335071942716\n",
      "Doc2Vec(dm/m,d200,n5,w8,mc2,s0.001,t8)\n",
      "-0.009694335071942716\n",
      "Doc2Vec(dbow+w,d200,n5,w8,mc2,s0.001,t8)\n",
      "0.08458677396092397\n",
      "Doc2Vec(dm/m,d200,n5,w8,mc2,s0.001,t8)\n",
      "0.08458677396092397\n",
      "Doc2Vec(dbow+w,d200,n5,w8,mc2,s0.001,t8)\n",
      "0.04800966110464222\n",
      "Doc2Vec(dm/m,d200,n5,w8,mc2,s0.001,t8)\n",
      "0.04800966110464222\n",
      "Doc2Vec(dbow+w,d200,n5,w8,mc2,s0.001,t8)\n",
      "-0.09792388854478891\n",
      "Doc2Vec(dm/m,d200,n5,w8,mc2,s0.001,t8)\n",
      "-0.09792388854478891\n"
     ]
    }
   ],
   "source": [
    "for doc in docs:\n",
    "    for model in models:\n",
    "        print(str(model))\n",
    "        sims = model.docvecs.similarity_unseen_docs(model, doc, 'Engenharia',\n",
    "                                                    alpha=0.1, min_alpha=0.0001,\n",
    "                                                   steps=5)\n",
    "        pprint(sims)"
   ]
  },
  {
   "cell_type": "markdown",
   "metadata": {},
   "source": [
    "Por que o modelo atribui a mesma distância para documentos tão distintos?"
   ]
  },
  {
   "cell_type": "code",
   "execution_count": null,
   "metadata": {
    "collapsed": true
   },
   "outputs": [],
   "source": []
  }
 ],
 "metadata": {
  "kernelspec": {
   "display_name": "Python 3",
   "language": "python",
   "name": "python3"
  },
  "language_info": {
   "codemirror_mode": {
    "name": "ipython",
    "version": 3
   },
   "file_extension": ".py",
   "mimetype": "text/x-python",
   "name": "python",
   "nbconvert_exporter": "python",
   "pygments_lexer": "ipython3",
   "version": "3.5.2"
  }
 },
 "nbformat": 4,
 "nbformat_minor": 2
}
